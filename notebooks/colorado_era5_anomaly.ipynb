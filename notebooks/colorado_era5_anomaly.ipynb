{
 "cells": [
  {
   "cell_type": "markdown",
   "id": "6c594730-cd0f-4b32-9999-3f5860700da5",
   "metadata": {},
   "source": [
    "# Access ERA5 data from glade and plot temp anomaly for Colorado"
   ]
  },
  {
   "cell_type": "code",
   "execution_count": 1,
   "id": "3092ae29-feec-45fc-873f-a06016571083",
   "metadata": {},
   "outputs": [
    {
     "name": "stderr",
     "output_type": "stream",
     "text": [
      "/glade/u/apps/opt/conda/envs/npl-2024a/lib/python3.11/site-packages/dask/dataframe/_pyarrow_compat.py:17: FutureWarning: Minimal version of pyarrow will soon be increased to 14.0.1. You are using 13.0.0. Please consider upgrading.\n",
      "  warnings.warn(\n"
     ]
    }
   ],
   "source": [
    "import matplotlib.pyplot as plt\n",
    "import numpy as np\n",
    "import xarray as xr\n",
    "import intake_esm\n",
    "import intake\n",
    "import pandas as pd\n",
    "import cartopy.crs as ccrs  # Correct import for coordinate reference systems\n",
    "import cartopy.feature as cfeature\n",
    "from holoviews import opts\n",
    "import geoviews as gv\n",
    "import holoviews as hv\n",
    "import aiohttp"
   ]
  },
  {
   "cell_type": "markdown",
   "id": "c6bb3a80-b011-43fc-822f-68c7d65b10be",
   "metadata": {},
   "source": [
    "### Specify global variables"
   ]
  },
  {
   "cell_type": "code",
   "execution_count": 2,
   "id": "d2dd4beb-490e-4f7b-b4a4-9d8bc5df9d1c",
   "metadata": {},
   "outputs": [],
   "source": [
    "lat = 40.014\n",
    "lon =  -105.270 + 360\n",
    "# Bounding box for Colorado\n",
    "colorado_right  =  (-109.060253 + 360)%360\n",
    "colorado_left   = (-102.041524 + 360)%360 \n",
    "colorado_bottom = 37\n",
    "colorado_top    = 41\n",
    "###\n",
    "baseline_year = 1940\n",
    "current_year  = 2023\n",
    "day           = 11\n",
    "month         = 6"
   ]
  },
  {
   "cell_type": "code",
   "execution_count": 3,
   "id": "6ddb79d7-3c23-4fdf-b7b8-59326c1737c4",
   "metadata": {},
   "outputs": [
    {
     "name": "stdout",
     "output_type": "stream",
     "text": [
      "https://data.rda.ucar.edu/pythia_intake_catalogs/era5_catalog.json\n"
     ]
    }
   ],
   "source": [
    "rda_data          = '/gpfs/csfs1/collections/rda/data/'\n",
    "rda_url           = 'https://data.rda.ucar.edu/'\n",
    "era5_catalog      = rda_data + 'pythia_intake_catalogs/'\n",
    "complete_url      = rda_url + 'pythia_intake_catalogs/'  + 'era5_catalog.json'\n",
    "alternate_catalog = rda_data + 'pythia_intake_catalogs/era5_catalog.json'\n",
    "print(complete_url)"
   ]
  },
  {
   "cell_type": "markdown",
   "id": "aba8b45d-b43d-4489-b3fb-34583428e546",
   "metadata": {},
   "source": [
    "### Create a Dask cluster"
   ]
  },
  {
   "cell_type": "markdown",
   "id": "6109afeb-ef72-4a47-bdf0-56504054588f",
   "metadata": {},
   "source": [
    "#### Dask Introduction\n",
    "\n",
    "[Dask](https://www.dask.org/) is a solution that enables the scaling of Python libraries. It mimics popular scientific libraries such as numpy, pandas, and xarray that enables an easier path to parallel processing without having to refactor code. \n",
    "\n",
    "There are 3 components to parallel processing with Dask: the client, the scheduler, and the workers. \n",
    "\n",
    "The Client is best envisioned as the application that sends information to the Dask cluster. In Python applications this is handled when the client is defined with `client = Client(CLUSTER_TYPE)`. A Dask cluster comprises of a single scheduler that manages the execution of tasks on workers. The `CLUSTER_TYPE` can be defined in a number of different ways.\n",
    "\n",
    "- There is LocalCluster, a cluster running on the same hardware as the application and sharing the available resources, directly in Python with `dask.distributed`. \n",
    "\n",
    "- In certain JupyterHubs Dask Gateway may be available and a dedicated dask cluster with its own resources can be created dynamically with `dask.gateway`. \n",
    "\n",
    "- On HPC systems `dask_jobqueue` is used to connect to the HPC Slurm and PBS job schedulers to provision resources.\n",
    "\n",
    "The `dask.distributed` client python module can also be used to connect to existing clusters. A Dask Scheduler and Workers can be deployed in containers, or on Kubernetes, without using a Python function to create a dask cluster. The `dask.distributed` Client is configured to connect to the scheduler either by container name, or by the Kubernetes service name.     "
   ]
  },
  {
   "cell_type": "markdown",
   "id": "756464b7-5c18-4fbf-ae11-86688c0c4f43",
   "metadata": {},
   "source": [
    "#### Select the Dask cluster type"
   ]
  },
  {
   "cell_type": "markdown",
   "id": "206e90c1-1764-440f-9846-aa6e75d39777",
   "metadata": {},
   "source": [
    "The default will be LocalCluster as that can run on any system.\n",
    "\n",
    "If running on a HPC computer with a PBS Scheduler, set to True. Otherwise, set to False."
   ]
  },
  {
   "cell_type": "code",
   "execution_count": 4,
   "id": "27eba78f-3a1c-4d9a-ad07-501f713069aa",
   "metadata": {},
   "outputs": [],
   "source": [
    "USE_PBS_SCHEDULER = False"
   ]
  },
  {
   "cell_type": "markdown",
   "id": "26672bdd-25d4-4664-bd2f-09eac8e578ba",
   "metadata": {},
   "source": [
    "If running on Jupyter server with Dask Gateway configured, set to True. Otherwise, set to False."
   ]
  },
  {
   "cell_type": "code",
   "execution_count": 5,
   "id": "4804f8c9-a5f2-4ed7-a5a4-fdb9c344e5d5",
   "metadata": {},
   "outputs": [],
   "source": [
    "USE_DASK_GATEWAY = False"
   ]
  },
  {
   "cell_type": "markdown",
   "id": "296bfaf7-a1a4-48f7-b3f2-e2b12a738660",
   "metadata": {},
   "source": [
    "**Python function for a PBS Cluster**"
   ]
  },
  {
   "cell_type": "code",
   "execution_count": 6,
   "id": "d0915ebf-a4b9-4089-b5da-b81fc5f96488",
   "metadata": {},
   "outputs": [],
   "source": [
    "# Create a PBS cluster object\n",
    "def get_pbs_cluster():\n",
    "    \"\"\" Create cluster through dask_jobqueue.   \n",
    "    \"\"\"\n",
    "    from dask_jobqueue import PBSCluster\n",
    "    cluster = PBSCluster(\n",
    "        job_name = 'dask-pythia-24',\n",
    "        cores = 1,\n",
    "        memory = '4GiB',\n",
    "        processes = 1,\n",
    "        local_directory = rda_scratch + '/dask/spill',\n",
    "        resource_spec = 'select=1:ncpus=1:mem=4GB',\n",
    "        queue = 'casper',\n",
    "        walltime = '1:00:00',\n",
    "        #interface = 'ib0'\n",
    "        interface = 'ext'\n",
    "    )\n",
    "    return cluster"
   ]
  },
  {
   "cell_type": "markdown",
   "id": "7ad45401-97c9-4934-9b97-97ac1c9edd3c",
   "metadata": {},
   "source": [
    "**Python function for a Gateway Cluster**"
   ]
  },
  {
   "cell_type": "code",
   "execution_count": 7,
   "id": "4fdeb643-324e-4b76-a902-884d1c2b7d1e",
   "metadata": {},
   "outputs": [],
   "source": [
    "def get_gateway_cluster():\n",
    "    \"\"\" Create cluster through dask_gateway\n",
    "    \"\"\"\n",
    "    from dask_gateway import Gateway\n",
    "\n",
    "    gateway = Gateway()\n",
    "    cluster = gateway.new_cluster()\n",
    "    cluster.adapt(minimum=2, maximum=4)\n",
    "    return cluster"
   ]
  },
  {
   "cell_type": "markdown",
   "id": "9274168c-11e4-4db2-b5b3-6c818e25b8cf",
   "metadata": {},
   "source": [
    "**Python function for a Local Cluster**"
   ]
  },
  {
   "cell_type": "code",
   "execution_count": 8,
   "id": "c6cf2e6a-9617-4873-9c58-649f524cd74f",
   "metadata": {},
   "outputs": [],
   "source": [
    "def get_local_cluster():\n",
    "    \"\"\" Create cluster using the Jupyter server's resources\n",
    "    \"\"\"\n",
    "    from distributed import LocalCluster, performance_report\n",
    "    cluster = LocalCluster()    \n",
    "\n",
    "    cluster.scale(4)\n",
    "    return cluster"
   ]
  },
  {
   "cell_type": "markdown",
   "id": "d0d28e5d-16f6-492a-b4ab-cc54015c7ea1",
   "metadata": {},
   "source": [
    "**Python logic to select the Dask Cluster type**\n",
    "\n",
    "This uses True/False boolean logic based on the variables set in the previous cells"
   ]
  },
  {
   "cell_type": "code",
   "execution_count": 9,
   "id": "18ceadbf-2d3c-42a4-aaf0-a13ecc3c86c7",
   "metadata": {},
   "outputs": [
    {
     "name": "stderr",
     "output_type": "stream",
     "text": [
      "/glade/u/apps/opt/conda/envs/npl-2024a/lib/python3.11/site-packages/distributed/node.py:182: UserWarning: Port 8787 is already in use.\n",
      "Perhaps you already have a cluster running?\n",
      "Hosting the HTTP server on port 44005 instead\n",
      "  warnings.warn(\n"
     ]
    },
    {
     "data": {
      "application/vnd.jupyter.widget-view+json": {
       "model_id": "b0895d384bd74547aee51e7b26b7af84",
       "version_major": 2,
       "version_minor": 0
      },
      "text/html": [
       "<div class=\"jp-RenderedHTMLCommon jp-RenderedHTML jp-mod-trusted jp-OutputArea-output\">\n",
       "    <div style=\"width: 24px; height: 24px; background-color: #e1e1e1; border: 3px solid #9D9D9D; border-radius: 5px; position: absolute;\">\n",
       "    </div>\n",
       "    <div style=\"margin-left: 48px;\">\n",
       "        <h3 style=\"margin-bottom: 0px; margin-top: 0px;\">LocalCluster</h3>\n",
       "        <p style=\"color: #9D9D9D; margin-bottom: 0px;\">b37fd0be</p>\n",
       "        <table style=\"width: 100%; text-align: left;\">\n",
       "            <tr>\n",
       "                <td style=\"text-align: left;\">\n",
       "                    <strong>Dashboard:</strong> <a href=\"https://jupyterhub.hpc.ucar.edu/stable/user/negins/proxy/44005/status\" target=\"_blank\">https://jupyterhub.hpc.ucar.edu/stable/user/negins/proxy/44005/status</a>\n",
       "                </td>\n",
       "                <td style=\"text-align: left;\">\n",
       "                    <strong>Workers:</strong> 4\n",
       "                </td>\n",
       "            </tr>\n",
       "            <tr>\n",
       "                <td style=\"text-align: left;\">\n",
       "                    <strong>Total threads:</strong> 4\n",
       "                </td>\n",
       "                <td style=\"text-align: left;\">\n",
       "                    <strong>Total memory:</strong> 16.00 GiB\n",
       "                </td>\n",
       "            </tr>\n",
       "            \n",
       "            <tr>\n",
       "    <td style=\"text-align: left;\"><strong>Status:</strong> running</td>\n",
       "    <td style=\"text-align: left;\"><strong>Using processes:</strong> True</td>\n",
       "</tr>\n",
       "\n",
       "            \n",
       "        </table>\n",
       "\n",
       "        <details>\n",
       "            <summary style=\"margin-bottom: 20px;\">\n",
       "                <h3 style=\"display: inline;\">Scheduler Info</h3>\n",
       "            </summary>\n",
       "\n",
       "            <div style=\"\">\n",
       "    <div>\n",
       "        <div style=\"width: 24px; height: 24px; background-color: #FFF7E5; border: 3px solid #FF6132; border-radius: 5px; position: absolute;\"> </div>\n",
       "        <div style=\"margin-left: 48px;\">\n",
       "            <h3 style=\"margin-bottom: 0px;\">Scheduler</h3>\n",
       "            <p style=\"color: #9D9D9D; margin-bottom: 0px;\">Scheduler-ed2732a9-5de5-4636-bf81-66b2862abffa</p>\n",
       "            <table style=\"width: 100%; text-align: left;\">\n",
       "                <tr>\n",
       "                    <td style=\"text-align: left;\">\n",
       "                        <strong>Comm:</strong> tcp://127.0.0.1:42239\n",
       "                    </td>\n",
       "                    <td style=\"text-align: left;\">\n",
       "                        <strong>Workers:</strong> 4\n",
       "                    </td>\n",
       "                </tr>\n",
       "                <tr>\n",
       "                    <td style=\"text-align: left;\">\n",
       "                        <strong>Dashboard:</strong> <a href=\"https://jupyterhub.hpc.ucar.edu/stable/user/negins/proxy/44005/status\" target=\"_blank\">https://jupyterhub.hpc.ucar.edu/stable/user/negins/proxy/44005/status</a>\n",
       "                    </td>\n",
       "                    <td style=\"text-align: left;\">\n",
       "                        <strong>Total threads:</strong> 4\n",
       "                    </td>\n",
       "                </tr>\n",
       "                <tr>\n",
       "                    <td style=\"text-align: left;\">\n",
       "                        <strong>Started:</strong> Just now\n",
       "                    </td>\n",
       "                    <td style=\"text-align: left;\">\n",
       "                        <strong>Total memory:</strong> 16.00 GiB\n",
       "                    </td>\n",
       "                </tr>\n",
       "            </table>\n",
       "        </div>\n",
       "    </div>\n",
       "\n",
       "    <details style=\"margin-left: 48px;\">\n",
       "        <summary style=\"margin-bottom: 20px;\">\n",
       "            <h3 style=\"display: inline;\">Workers</h3>\n",
       "        </summary>\n",
       "\n",
       "        \n",
       "        <div style=\"margin-bottom: 20px;\">\n",
       "            <div style=\"width: 24px; height: 24px; background-color: #DBF5FF; border: 3px solid #4CC9FF; border-radius: 5px; position: absolute;\"> </div>\n",
       "            <div style=\"margin-left: 48px;\">\n",
       "            <details>\n",
       "                <summary>\n",
       "                    <h4 style=\"margin-bottom: 0px; display: inline;\">Worker: 0</h4>\n",
       "                </summary>\n",
       "                <table style=\"width: 100%; text-align: left;\">\n",
       "                    <tr>\n",
       "                        <td style=\"text-align: left;\">\n",
       "                            <strong>Comm: </strong> tcp://127.0.0.1:43123\n",
       "                        </td>\n",
       "                        <td style=\"text-align: left;\">\n",
       "                            <strong>Total threads: </strong> 1\n",
       "                        </td>\n",
       "                    </tr>\n",
       "                    <tr>\n",
       "                        <td style=\"text-align: left;\">\n",
       "                            <strong>Dashboard: </strong> <a href=\"https://jupyterhub.hpc.ucar.edu/stable/user/negins/proxy/42517/status\" target=\"_blank\">https://jupyterhub.hpc.ucar.edu/stable/user/negins/proxy/42517/status</a>\n",
       "                        </td>\n",
       "                        <td style=\"text-align: left;\">\n",
       "                            <strong>Memory: </strong> 4.00 GiB\n",
       "                        </td>\n",
       "                    </tr>\n",
       "                    <tr>\n",
       "                        <td style=\"text-align: left;\">\n",
       "                            <strong>Nanny: </strong> tcp://127.0.0.1:40829\n",
       "                        </td>\n",
       "                        <td style=\"text-align: left;\"></td>\n",
       "                    </tr>\n",
       "                    <tr>\n",
       "                        <td colspan=\"2\" style=\"text-align: left;\">\n",
       "                            <strong>Local directory: </strong> /glade/derecho/scratch/negins/tmp/dask-scratch-space/worker-bunn0xsk\n",
       "                        </td>\n",
       "                    </tr>\n",
       "\n",
       "                    \n",
       "\n",
       "                    \n",
       "\n",
       "                </table>\n",
       "            </details>\n",
       "            </div>\n",
       "        </div>\n",
       "        \n",
       "        <div style=\"margin-bottom: 20px;\">\n",
       "            <div style=\"width: 24px; height: 24px; background-color: #DBF5FF; border: 3px solid #4CC9FF; border-radius: 5px; position: absolute;\"> </div>\n",
       "            <div style=\"margin-left: 48px;\">\n",
       "            <details>\n",
       "                <summary>\n",
       "                    <h4 style=\"margin-bottom: 0px; display: inline;\">Worker: 1</h4>\n",
       "                </summary>\n",
       "                <table style=\"width: 100%; text-align: left;\">\n",
       "                    <tr>\n",
       "                        <td style=\"text-align: left;\">\n",
       "                            <strong>Comm: </strong> tcp://127.0.0.1:42127\n",
       "                        </td>\n",
       "                        <td style=\"text-align: left;\">\n",
       "                            <strong>Total threads: </strong> 1\n",
       "                        </td>\n",
       "                    </tr>\n",
       "                    <tr>\n",
       "                        <td style=\"text-align: left;\">\n",
       "                            <strong>Dashboard: </strong> <a href=\"https://jupyterhub.hpc.ucar.edu/stable/user/negins/proxy/41107/status\" target=\"_blank\">https://jupyterhub.hpc.ucar.edu/stable/user/negins/proxy/41107/status</a>\n",
       "                        </td>\n",
       "                        <td style=\"text-align: left;\">\n",
       "                            <strong>Memory: </strong> 4.00 GiB\n",
       "                        </td>\n",
       "                    </tr>\n",
       "                    <tr>\n",
       "                        <td style=\"text-align: left;\">\n",
       "                            <strong>Nanny: </strong> tcp://127.0.0.1:37257\n",
       "                        </td>\n",
       "                        <td style=\"text-align: left;\"></td>\n",
       "                    </tr>\n",
       "                    <tr>\n",
       "                        <td colspan=\"2\" style=\"text-align: left;\">\n",
       "                            <strong>Local directory: </strong> /glade/derecho/scratch/negins/tmp/dask-scratch-space/worker-7ftaw56f\n",
       "                        </td>\n",
       "                    </tr>\n",
       "\n",
       "                    \n",
       "\n",
       "                    \n",
       "\n",
       "                </table>\n",
       "            </details>\n",
       "            </div>\n",
       "        </div>\n",
       "        \n",
       "        <div style=\"margin-bottom: 20px;\">\n",
       "            <div style=\"width: 24px; height: 24px; background-color: #DBF5FF; border: 3px solid #4CC9FF; border-radius: 5px; position: absolute;\"> </div>\n",
       "            <div style=\"margin-left: 48px;\">\n",
       "            <details>\n",
       "                <summary>\n",
       "                    <h4 style=\"margin-bottom: 0px; display: inline;\">Worker: 2</h4>\n",
       "                </summary>\n",
       "                <table style=\"width: 100%; text-align: left;\">\n",
       "                    <tr>\n",
       "                        <td style=\"text-align: left;\">\n",
       "                            <strong>Comm: </strong> tcp://127.0.0.1:33271\n",
       "                        </td>\n",
       "                        <td style=\"text-align: left;\">\n",
       "                            <strong>Total threads: </strong> 1\n",
       "                        </td>\n",
       "                    </tr>\n",
       "                    <tr>\n",
       "                        <td style=\"text-align: left;\">\n",
       "                            <strong>Dashboard: </strong> <a href=\"https://jupyterhub.hpc.ucar.edu/stable/user/negins/proxy/46805/status\" target=\"_blank\">https://jupyterhub.hpc.ucar.edu/stable/user/negins/proxy/46805/status</a>\n",
       "                        </td>\n",
       "                        <td style=\"text-align: left;\">\n",
       "                            <strong>Memory: </strong> 4.00 GiB\n",
       "                        </td>\n",
       "                    </tr>\n",
       "                    <tr>\n",
       "                        <td style=\"text-align: left;\">\n",
       "                            <strong>Nanny: </strong> tcp://127.0.0.1:40343\n",
       "                        </td>\n",
       "                        <td style=\"text-align: left;\"></td>\n",
       "                    </tr>\n",
       "                    <tr>\n",
       "                        <td colspan=\"2\" style=\"text-align: left;\">\n",
       "                            <strong>Local directory: </strong> /glade/derecho/scratch/negins/tmp/dask-scratch-space/worker-xex0g4s7\n",
       "                        </td>\n",
       "                    </tr>\n",
       "\n",
       "                    \n",
       "\n",
       "                    \n",
       "\n",
       "                </table>\n",
       "            </details>\n",
       "            </div>\n",
       "        </div>\n",
       "        \n",
       "        <div style=\"margin-bottom: 20px;\">\n",
       "            <div style=\"width: 24px; height: 24px; background-color: #DBF5FF; border: 3px solid #4CC9FF; border-radius: 5px; position: absolute;\"> </div>\n",
       "            <div style=\"margin-left: 48px;\">\n",
       "            <details>\n",
       "                <summary>\n",
       "                    <h4 style=\"margin-bottom: 0px; display: inline;\">Worker: 3</h4>\n",
       "                </summary>\n",
       "                <table style=\"width: 100%; text-align: left;\">\n",
       "                    <tr>\n",
       "                        <td style=\"text-align: left;\">\n",
       "                            <strong>Comm: </strong> tcp://127.0.0.1:38815\n",
       "                        </td>\n",
       "                        <td style=\"text-align: left;\">\n",
       "                            <strong>Total threads: </strong> 1\n",
       "                        </td>\n",
       "                    </tr>\n",
       "                    <tr>\n",
       "                        <td style=\"text-align: left;\">\n",
       "                            <strong>Dashboard: </strong> <a href=\"https://jupyterhub.hpc.ucar.edu/stable/user/negins/proxy/45209/status\" target=\"_blank\">https://jupyterhub.hpc.ucar.edu/stable/user/negins/proxy/45209/status</a>\n",
       "                        </td>\n",
       "                        <td style=\"text-align: left;\">\n",
       "                            <strong>Memory: </strong> 4.00 GiB\n",
       "                        </td>\n",
       "                    </tr>\n",
       "                    <tr>\n",
       "                        <td style=\"text-align: left;\">\n",
       "                            <strong>Nanny: </strong> tcp://127.0.0.1:37869\n",
       "                        </td>\n",
       "                        <td style=\"text-align: left;\"></td>\n",
       "                    </tr>\n",
       "                    <tr>\n",
       "                        <td colspan=\"2\" style=\"text-align: left;\">\n",
       "                            <strong>Local directory: </strong> /glade/derecho/scratch/negins/tmp/dask-scratch-space/worker-u60doon_\n",
       "                        </td>\n",
       "                    </tr>\n",
       "\n",
       "                    \n",
       "\n",
       "                    \n",
       "\n",
       "                </table>\n",
       "            </details>\n",
       "            </div>\n",
       "        </div>\n",
       "        \n",
       "\n",
       "    </details>\n",
       "</div>\n",
       "\n",
       "        </details>\n",
       "    </div>\n",
       "</div>"
      ],
      "text/plain": [
       "LocalCluster(b37fd0be, 'tcp://127.0.0.1:42239', workers=4, threads=4, memory=16.00 GiB)"
      ]
     },
     "metadata": {},
     "output_type": "display_data"
    }
   ],
   "source": [
    "# Obtain dask cluster in one of three ways\n",
    "\n",
    "if USE_PBS_SCHEDULER:\n",
    "    cluster = get_pbs_cluster()\n",
    "elif USE_DASK_GATEWAY:\n",
    "    cluster = get_gateway_cluster()\n",
    "else:\n",
    "    cluster = get_local_cluster()\n",
    "\n",
    "# Connect to cluster\n",
    "from distributed import Client\n",
    "client = Client(cluster)\n",
    "\n",
    "# Display cluster dashboard URL\n",
    "cluster"
   ]
  },
  {
   "cell_type": "markdown",
   "id": "ced69791-8589-4ec7-9961-edd56e4bb014",
   "metadata": {},
   "source": [
    "### Open ERA5 catalog "
   ]
  },
  {
   "cell_type": "code",
   "execution_count": 10,
   "id": "e4d432d9-1c63-4907-b6c5-0eb5d2499714",
   "metadata": {},
   "outputs": [
    {
     "name": "stderr",
     "output_type": "stream",
     "text": [
      "/glade/u/apps/opt/conda/envs/npl-2024a/lib/python3.11/site-packages/intake_esm/cat.py:251: DtypeWarning: Columns (2) have mixed types. Specify dtype option on import or set low_memory=False.\n",
      "  df = pd.read_csv(\n"
     ]
    },
    {
     "data": {
      "text/html": [
       "<p><strong>era5_catalog catalog with 7 dataset(s) from 785068 asset(s)</strong>:</p> <div>\n",
       "<style scoped>\n",
       "    .dataframe tbody tr th:only-of-type {\n",
       "        vertical-align: middle;\n",
       "    }\n",
       "\n",
       "    .dataframe tbody tr th {\n",
       "        vertical-align: top;\n",
       "    }\n",
       "\n",
       "    .dataframe thead th {\n",
       "        text-align: right;\n",
       "    }\n",
       "</style>\n",
       "<table border=\"1\" class=\"dataframe\">\n",
       "  <thead>\n",
       "    <tr style=\"text-align: right;\">\n",
       "      <th></th>\n",
       "      <th>unique</th>\n",
       "    </tr>\n",
       "  </thead>\n",
       "  <tbody>\n",
       "    <tr>\n",
       "      <th>era_id</th>\n",
       "      <td>1</td>\n",
       "    </tr>\n",
       "    <tr>\n",
       "      <th>datatype</th>\n",
       "      <td>2</td>\n",
       "    </tr>\n",
       "    <tr>\n",
       "      <th>level_type</th>\n",
       "      <td>1</td>\n",
       "    </tr>\n",
       "    <tr>\n",
       "      <th>step_type</th>\n",
       "      <td>7</td>\n",
       "    </tr>\n",
       "    <tr>\n",
       "      <th>table_code</th>\n",
       "      <td>4</td>\n",
       "    </tr>\n",
       "    <tr>\n",
       "      <th>param_code</th>\n",
       "      <td>164</td>\n",
       "    </tr>\n",
       "    <tr>\n",
       "      <th>variable</th>\n",
       "      <td>212</td>\n",
       "    </tr>\n",
       "    <tr>\n",
       "      <th>long_name</th>\n",
       "      <td>212</td>\n",
       "    </tr>\n",
       "    <tr>\n",
       "      <th>units</th>\n",
       "      <td>33</td>\n",
       "    </tr>\n",
       "    <tr>\n",
       "      <th>year</th>\n",
       "      <td>85</td>\n",
       "    </tr>\n",
       "    <tr>\n",
       "      <th>month</th>\n",
       "      <td>12</td>\n",
       "    </tr>\n",
       "    <tr>\n",
       "      <th>format</th>\n",
       "      <td>1</td>\n",
       "    </tr>\n",
       "    <tr>\n",
       "      <th>frequency</th>\n",
       "      <td>1</td>\n",
       "    </tr>\n",
       "    <tr>\n",
       "      <th>path</th>\n",
       "      <td>785068</td>\n",
       "    </tr>\n",
       "    <tr>\n",
       "      <th>derived_variable</th>\n",
       "      <td>0</td>\n",
       "    </tr>\n",
       "  </tbody>\n",
       "</table>\n",
       "</div>"
      ],
      "text/plain": [
       "<IPython.core.display.HTML object>"
      ]
     },
     "metadata": {},
     "output_type": "display_data"
    }
   ],
   "source": [
    "era5_cat = intake.open_esm_datastore(complete_url)\n",
    "#era5_cat = intake.open_esm_datastore(alternate_catalog)\n",
    "era5_cat"
   ]
  },
  {
   "cell_type": "code",
   "execution_count": 11,
   "id": "c90cbf01-6547-4a39-b9b6-da8466939ecb",
   "metadata": {
    "scrolled": true
   },
   "outputs": [
    {
     "data": {
      "text/html": [
       "<div>\n",
       "<style scoped>\n",
       "    .dataframe tbody tr th:only-of-type {\n",
       "        vertical-align: middle;\n",
       "    }\n",
       "\n",
       "    .dataframe tbody tr th {\n",
       "        vertical-align: top;\n",
       "    }\n",
       "\n",
       "    .dataframe thead th {\n",
       "        text-align: right;\n",
       "    }\n",
       "</style>\n",
       "<table border=\"1\" class=\"dataframe\">\n",
       "  <thead>\n",
       "    <tr style=\"text-align: right;\">\n",
       "      <th></th>\n",
       "      <th>era_id</th>\n",
       "      <th>datatype</th>\n",
       "      <th>level_type</th>\n",
       "      <th>step_type</th>\n",
       "      <th>table_code</th>\n",
       "      <th>param_code</th>\n",
       "      <th>variable</th>\n",
       "      <th>long_name</th>\n",
       "      <th>units</th>\n",
       "      <th>year</th>\n",
       "      <th>month</th>\n",
       "      <th>format</th>\n",
       "      <th>frequency</th>\n",
       "      <th>path</th>\n",
       "    </tr>\n",
       "  </thead>\n",
       "  <tbody>\n",
       "    <tr>\n",
       "      <th>0</th>\n",
       "      <td>e5</td>\n",
       "      <td>an</td>\n",
       "      <td>NaN</td>\n",
       "      <td>pl</td>\n",
       "      <td>128</td>\n",
       "      <td>60</td>\n",
       "      <td>PV</td>\n",
       "      <td>Potential vorticity</td>\n",
       "      <td>K m**2 kg**-1 s**-1</td>\n",
       "      <td>1940</td>\n",
       "      <td>1</td>\n",
       "      <td>nc</td>\n",
       "      <td>hourly</td>\n",
       "      <td>https://data.rda.ucar.edu/ds633.0/e5.oper.an.p...</td>\n",
       "    </tr>\n",
       "    <tr>\n",
       "      <th>1</th>\n",
       "      <td>e5</td>\n",
       "      <td>an</td>\n",
       "      <td>NaN</td>\n",
       "      <td>pl</td>\n",
       "      <td>128</td>\n",
       "      <td>60</td>\n",
       "      <td>PV</td>\n",
       "      <td>Potential vorticity</td>\n",
       "      <td>K m**2 kg**-1 s**-1</td>\n",
       "      <td>1940</td>\n",
       "      <td>1</td>\n",
       "      <td>nc</td>\n",
       "      <td>hourly</td>\n",
       "      <td>https://data.rda.ucar.edu/ds633.0/e5.oper.an.p...</td>\n",
       "    </tr>\n",
       "    <tr>\n",
       "      <th>2</th>\n",
       "      <td>e5</td>\n",
       "      <td>an</td>\n",
       "      <td>NaN</td>\n",
       "      <td>pl</td>\n",
       "      <td>128</td>\n",
       "      <td>60</td>\n",
       "      <td>PV</td>\n",
       "      <td>Potential vorticity</td>\n",
       "      <td>K m**2 kg**-1 s**-1</td>\n",
       "      <td>1940</td>\n",
       "      <td>1</td>\n",
       "      <td>nc</td>\n",
       "      <td>hourly</td>\n",
       "      <td>https://data.rda.ucar.edu/ds633.0/e5.oper.an.p...</td>\n",
       "    </tr>\n",
       "    <tr>\n",
       "      <th>3</th>\n",
       "      <td>e5</td>\n",
       "      <td>an</td>\n",
       "      <td>NaN</td>\n",
       "      <td>pl</td>\n",
       "      <td>128</td>\n",
       "      <td>60</td>\n",
       "      <td>PV</td>\n",
       "      <td>Potential vorticity</td>\n",
       "      <td>K m**2 kg**-1 s**-1</td>\n",
       "      <td>1940</td>\n",
       "      <td>1</td>\n",
       "      <td>nc</td>\n",
       "      <td>hourly</td>\n",
       "      <td>https://data.rda.ucar.edu/ds633.0/e5.oper.an.p...</td>\n",
       "    </tr>\n",
       "    <tr>\n",
       "      <th>4</th>\n",
       "      <td>e5</td>\n",
       "      <td>an</td>\n",
       "      <td>NaN</td>\n",
       "      <td>pl</td>\n",
       "      <td>128</td>\n",
       "      <td>60</td>\n",
       "      <td>PV</td>\n",
       "      <td>Potential vorticity</td>\n",
       "      <td>K m**2 kg**-1 s**-1</td>\n",
       "      <td>1940</td>\n",
       "      <td>1</td>\n",
       "      <td>nc</td>\n",
       "      <td>hourly</td>\n",
       "      <td>https://data.rda.ucar.edu/ds633.0/e5.oper.an.p...</td>\n",
       "    </tr>\n",
       "  </tbody>\n",
       "</table>\n",
       "</div>"
      ],
      "text/plain": [
       "  era_id datatype level_type step_type  table_code  param_code variable  \\\n",
       "0     e5       an        NaN        pl         128          60       PV   \n",
       "1     e5       an        NaN        pl         128          60       PV   \n",
       "2     e5       an        NaN        pl         128          60       PV   \n",
       "3     e5       an        NaN        pl         128          60       PV   \n",
       "4     e5       an        NaN        pl         128          60       PV   \n",
       "\n",
       "             long_name                units  year  month format frequency  \\\n",
       "0  Potential vorticity  K m**2 kg**-1 s**-1  1940      1     nc    hourly   \n",
       "1  Potential vorticity  K m**2 kg**-1 s**-1  1940      1     nc    hourly   \n",
       "2  Potential vorticity  K m**2 kg**-1 s**-1  1940      1     nc    hourly   \n",
       "3  Potential vorticity  K m**2 kg**-1 s**-1  1940      1     nc    hourly   \n",
       "4  Potential vorticity  K m**2 kg**-1 s**-1  1940      1     nc    hourly   \n",
       "\n",
       "                                                path  \n",
       "0  https://data.rda.ucar.edu/ds633.0/e5.oper.an.p...  \n",
       "1  https://data.rda.ucar.edu/ds633.0/e5.oper.an.p...  \n",
       "2  https://data.rda.ucar.edu/ds633.0/e5.oper.an.p...  \n",
       "3  https://data.rda.ucar.edu/ds633.0/e5.oper.an.p...  \n",
       "4  https://data.rda.ucar.edu/ds633.0/e5.oper.an.p...  "
      ]
     },
     "execution_count": 11,
     "metadata": {},
     "output_type": "execute_result"
    }
   ],
   "source": [
    "era5_df = era5_cat.df\n",
    "era5_df.head()"
   ]
  },
  {
   "cell_type": "markdown",
   "id": "595dd0c1-b99c-4f9c-a6b6-9938add0c68f",
   "metadata": {},
   "source": [
    "- Explore the list of variables to find the name of the 2m air temperature"
   ]
  },
  {
   "cell_type": "code",
   "execution_count": 12,
   "id": "e8a973e1-2eea-4a3e-9329-36630d47c582",
   "metadata": {},
   "outputs": [
    {
     "data": {
      "text/plain": [
       "array(['PV', 'CRWC', 'CSWC', 'Z', 'T', 'U', 'V', 'Q', 'W', 'VO', 'D', 'R',\n",
       "       'O3', 'CLWC', 'CIWC', 'CC', 'ALUVP', 'ALUVD', 'ALNIP', 'ALNID',\n",
       "       'CI', 'ASN', 'RSN', 'SSTK', 'ISTL1', 'ISTL2', 'ISTL3', 'ISTL4',\n",
       "       'SWVL1', 'SWVL2', 'SWVL3', 'SWVL4', 'CAPE', 'LAILV', 'LAIHV',\n",
       "       'TCLW', 'TCIW', 'SP', 'TCW', 'TCWV', 'STL1', 'SD', 'CHNK', 'MSL',\n",
       "       'BLH', 'TCC', 'VAR_10U', 'VAR_10V', 'VAR_2T', 'VAR_2D', 'STL2',\n",
       "       'STL3', 'LCC', 'MCC', 'HCC', 'SRC', 'TCO3', 'IEWS', 'INSS', 'ISHF',\n",
       "       'IE', 'SKT', 'STL4', 'TSN', 'FAL', 'FSR', 'FLSR', 'LBLT', 'LTLT',\n",
       "       'LSHF', 'LICT', 'LICD', 'TCRW', 'TCSW', 'U10N', 'V10N', 'VAR_100U',\n",
       "       'VAR_100V', 'LMLT', 'LMLD', 'VIMA', 'VIT', 'VIKE', 'VITHE',\n",
       "       'VIPIE', 'VIPILE', 'VITOE', 'VIEC', 'VIMAE', 'VIMAN', 'VIKEE',\n",
       "       'VIKEN', 'VITHEE', 'VITHEN', 'VIWVE', 'VIWVN', 'VIGE', 'VIGN',\n",
       "       'VITOEE', 'VITOEN', 'VIOZE', 'VIOZN', 'VILWD', 'VIIWD', 'VIMAD',\n",
       "       'VIKED', 'VITHED', 'VIWVD', 'VIGD', 'VITOED', 'VIOZD', 'VILWE',\n",
       "       'VILWN', 'VIIWE', 'VIIWN', 'VIMAT', 'SRO', 'SSRO', 'ES', 'SMLT',\n",
       "       'LSPF', 'UVB', 'LSP', 'CP', 'SF', 'BLD', 'SSHF', 'SLHF', 'SSRD',\n",
       "       'STRD', 'SSR', 'STR', 'TSR', 'TTR', 'EWSS', 'NSSS', 'E', 'LGWS',\n",
       "       'MGWS', 'GWD', 'RO', 'TSRC', 'TTRC', 'SSRC', 'STRC', 'TISR',\n",
       "       'VIMD', 'CSF', 'LSF', 'FDIR', 'CDIR', 'SSRDC', 'STRDC', 'PEV',\n",
       "       'ZUST', 'DNDZN', 'DNDZA', 'DCTB', 'TPLB', 'TPLT', 'CBH', 'DEG01',\n",
       "       'I10FG', 'ILSPF', 'CRR', 'LSRR', 'CSFR', 'LSSFR', 'MSROR',\n",
       "       'MSSROR', 'MSER', 'MSMR', 'MLSPF', 'MSDWUVRF', 'MLSPR', 'MCPR',\n",
       "       'MSR', 'MBLD', 'MSSHF', 'MSLHF', 'MSDWSWRF', 'MSDWLWRF', 'MSNSWRF',\n",
       "       'MSNLWRF', 'MTNSWRF', 'MTNLWRF', 'METSS', 'MNTSS', 'MER', 'MEGWSS',\n",
       "       'MNGWSS', 'MGWD', 'MROR', 'MTNSWRFCS', 'MTNLWRFCS', 'MSNSWRFCS',\n",
       "       'MSNLWRFCS', 'MTDWSWRF', 'MVIMD', 'MTPR', 'MCSR', 'MLSSR',\n",
       "       'MSDRSWRF', 'MSDRSWRFCS', 'MSDWSWRFCS', 'MSDWLWRFCS', 'MPER',\n",
       "       'VAR_10FG', 'MX2T', 'MN2T', 'MXTPR', 'MNTPR'], dtype=object)"
      ]
     },
     "execution_count": 12,
     "metadata": {},
     "output_type": "execute_result"
    }
   ],
   "source": [
    "era5_df['variable'].unique()"
   ]
  },
  {
   "cell_type": "markdown",
   "id": "112c04a4-552a-4667-adde-8d37679b1b7e",
   "metadata": {},
   "source": [
    "- We find that the variable of interest is called 'VAR_2T'"
   ]
  },
  {
   "cell_type": "code",
   "execution_count": 13,
   "id": "2d32a0d1-9097-4c25-9520-bb01440eabbe",
   "metadata": {},
   "outputs": [
    {
     "data": {
      "text/html": [
       "<p><strong>era5_catalog catalog with 1 dataset(s) from 1010 asset(s)</strong>:</p> <div>\n",
       "<style scoped>\n",
       "    .dataframe tbody tr th:only-of-type {\n",
       "        vertical-align: middle;\n",
       "    }\n",
       "\n",
       "    .dataframe tbody tr th {\n",
       "        vertical-align: top;\n",
       "    }\n",
       "\n",
       "    .dataframe thead th {\n",
       "        text-align: right;\n",
       "    }\n",
       "</style>\n",
       "<table border=\"1\" class=\"dataframe\">\n",
       "  <thead>\n",
       "    <tr style=\"text-align: right;\">\n",
       "      <th></th>\n",
       "      <th>unique</th>\n",
       "    </tr>\n",
       "  </thead>\n",
       "  <tbody>\n",
       "    <tr>\n",
       "      <th>era_id</th>\n",
       "      <td>1</td>\n",
       "    </tr>\n",
       "    <tr>\n",
       "      <th>datatype</th>\n",
       "      <td>1</td>\n",
       "    </tr>\n",
       "    <tr>\n",
       "      <th>level_type</th>\n",
       "      <td>0</td>\n",
       "    </tr>\n",
       "    <tr>\n",
       "      <th>step_type</th>\n",
       "      <td>1</td>\n",
       "    </tr>\n",
       "    <tr>\n",
       "      <th>table_code</th>\n",
       "      <td>1</td>\n",
       "    </tr>\n",
       "    <tr>\n",
       "      <th>param_code</th>\n",
       "      <td>1</td>\n",
       "    </tr>\n",
       "    <tr>\n",
       "      <th>variable</th>\n",
       "      <td>1</td>\n",
       "    </tr>\n",
       "    <tr>\n",
       "      <th>long_name</th>\n",
       "      <td>1</td>\n",
       "    </tr>\n",
       "    <tr>\n",
       "      <th>units</th>\n",
       "      <td>1</td>\n",
       "    </tr>\n",
       "    <tr>\n",
       "      <th>year</th>\n",
       "      <td>85</td>\n",
       "    </tr>\n",
       "    <tr>\n",
       "      <th>month</th>\n",
       "      <td>12</td>\n",
       "    </tr>\n",
       "    <tr>\n",
       "      <th>format</th>\n",
       "      <td>1</td>\n",
       "    </tr>\n",
       "    <tr>\n",
       "      <th>frequency</th>\n",
       "      <td>1</td>\n",
       "    </tr>\n",
       "    <tr>\n",
       "      <th>path</th>\n",
       "      <td>1010</td>\n",
       "    </tr>\n",
       "    <tr>\n",
       "      <th>derived_variable</th>\n",
       "      <td>0</td>\n",
       "    </tr>\n",
       "  </tbody>\n",
       "</table>\n",
       "</div>"
      ],
      "text/plain": [
       "<IPython.core.display.HTML object>"
      ]
     },
     "metadata": {},
     "output_type": "display_data"
    }
   ],
   "source": [
    "temp_cat = era5_cat.search(variable='VAR_2T',frequency = 'hourly')\n",
    "temp_cat"
   ]
  },
  {
   "cell_type": "markdown",
   "id": "9eec86f7-5e13-43f4-9967-e8c47bc9d334",
   "metadata": {},
   "source": [
    "- Convert catalog to dictonary\n",
    "- Inspect keys"
   ]
  },
  {
   "cell_type": "code",
   "execution_count": 14,
   "id": "2f49404b-1594-4713-8aa5-b0f5a6e0787b",
   "metadata": {},
   "outputs": [],
   "source": [
    "# Define the xarray_open_kwargs with a compatible engine, for example, 'scipy'\n",
    "xarray_open_kwargs = {\n",
    "    'engine': 'h5netcdf',\n",
    "    'chunks': {},  # Specify any chunking if needed\n",
    "    'backend_kwargs': {}  # Any additional backend arguments if required\n",
    "}"
   ]
  },
  {
   "cell_type": "code",
   "execution_count": 15,
   "id": "7ec32e95-61ba-4e68-9bd0-3dbcf5c3108a",
   "metadata": {},
   "outputs": [
    {
     "data": {
      "text/html": [
       "<div><svg style=\"position: absolute; width: 0; height: 0; overflow: hidden\">\n",
       "<defs>\n",
       "<symbol id=\"icon-database\" viewBox=\"0 0 32 32\">\n",
       "<path d=\"M16 0c-8.837 0-16 2.239-16 5v4c0 2.761 7.163 5 16 5s16-2.239 16-5v-4c0-2.761-7.163-5-16-5z\"></path>\n",
       "<path d=\"M16 17c-8.837 0-16-2.239-16-5v6c0 2.761 7.163 5 16 5s16-2.239 16-5v-6c0 2.761-7.163 5-16 5z\"></path>\n",
       "<path d=\"M16 26c-8.837 0-16-2.239-16-5v6c0 2.761 7.163 5 16 5s16-2.239 16-5v-6c0 2.761-7.163 5-16 5z\"></path>\n",
       "</symbol>\n",
       "<symbol id=\"icon-file-text2\" viewBox=\"0 0 32 32\">\n",
       "<path d=\"M28.681 7.159c-0.694-0.947-1.662-2.053-2.724-3.116s-2.169-2.030-3.116-2.724c-1.612-1.182-2.393-1.319-2.841-1.319h-15.5c-1.378 0-2.5 1.121-2.5 2.5v27c0 1.378 1.122 2.5 2.5 2.5h23c1.378 0 2.5-1.122 2.5-2.5v-19.5c0-0.448-0.137-1.23-1.319-2.841zM24.543 5.457c0.959 0.959 1.712 1.825 2.268 2.543h-4.811v-4.811c0.718 0.556 1.584 1.309 2.543 2.268zM28 29.5c0 0.271-0.229 0.5-0.5 0.5h-23c-0.271 0-0.5-0.229-0.5-0.5v-27c0-0.271 0.229-0.5 0.5-0.5 0 0 15.499-0 15.5 0v7c0 0.552 0.448 1 1 1h7v19.5z\"></path>\n",
       "<path d=\"M23 26h-14c-0.552 0-1-0.448-1-1s0.448-1 1-1h14c0.552 0 1 0.448 1 1s-0.448 1-1 1z\"></path>\n",
       "<path d=\"M23 22h-14c-0.552 0-1-0.448-1-1s0.448-1 1-1h14c0.552 0 1 0.448 1 1s-0.448 1-1 1z\"></path>\n",
       "<path d=\"M23 18h-14c-0.552 0-1-0.448-1-1s0.448-1 1-1h14c0.552 0 1 0.448 1 1s-0.448 1-1 1z\"></path>\n",
       "</symbol>\n",
       "</defs>\n",
       "</svg>\n",
       "<style>/* CSS stylesheet for displaying xarray objects in jupyterlab.\n",
       " *\n",
       " */\n",
       "\n",
       ":root {\n",
       "  --xr-font-color0: var(--jp-content-font-color0, rgba(0, 0, 0, 1));\n",
       "  --xr-font-color2: var(--jp-content-font-color2, rgba(0, 0, 0, 0.54));\n",
       "  --xr-font-color3: var(--jp-content-font-color3, rgba(0, 0, 0, 0.38));\n",
       "  --xr-border-color: var(--jp-border-color2, #e0e0e0);\n",
       "  --xr-disabled-color: var(--jp-layout-color3, #bdbdbd);\n",
       "  --xr-background-color: var(--jp-layout-color0, white);\n",
       "  --xr-background-color-row-even: var(--jp-layout-color1, white);\n",
       "  --xr-background-color-row-odd: var(--jp-layout-color2, #eeeeee);\n",
       "}\n",
       "\n",
       "html[theme=dark],\n",
       "body[data-theme=dark],\n",
       "body.vscode-dark {\n",
       "  --xr-font-color0: rgba(255, 255, 255, 1);\n",
       "  --xr-font-color2: rgba(255, 255, 255, 0.54);\n",
       "  --xr-font-color3: rgba(255, 255, 255, 0.38);\n",
       "  --xr-border-color: #1F1F1F;\n",
       "  --xr-disabled-color: #515151;\n",
       "  --xr-background-color: #111111;\n",
       "  --xr-background-color-row-even: #111111;\n",
       "  --xr-background-color-row-odd: #313131;\n",
       "}\n",
       "\n",
       ".xr-wrap {\n",
       "  display: block !important;\n",
       "  min-width: 300px;\n",
       "  max-width: 700px;\n",
       "}\n",
       "\n",
       ".xr-text-repr-fallback {\n",
       "  /* fallback to plain text repr when CSS is not injected (untrusted notebook) */\n",
       "  display: none;\n",
       "}\n",
       "\n",
       ".xr-header {\n",
       "  padding-top: 6px;\n",
       "  padding-bottom: 6px;\n",
       "  margin-bottom: 4px;\n",
       "  border-bottom: solid 1px var(--xr-border-color);\n",
       "}\n",
       "\n",
       ".xr-header > div,\n",
       ".xr-header > ul {\n",
       "  display: inline;\n",
       "  margin-top: 0;\n",
       "  margin-bottom: 0;\n",
       "}\n",
       "\n",
       ".xr-obj-type,\n",
       ".xr-array-name {\n",
       "  margin-left: 2px;\n",
       "  margin-right: 10px;\n",
       "}\n",
       "\n",
       ".xr-obj-type {\n",
       "  color: var(--xr-font-color2);\n",
       "}\n",
       "\n",
       ".xr-sections {\n",
       "  padding-left: 0 !important;\n",
       "  display: grid;\n",
       "  grid-template-columns: 150px auto auto 1fr 20px 20px;\n",
       "}\n",
       "\n",
       ".xr-section-item {\n",
       "  display: contents;\n",
       "}\n",
       "\n",
       ".xr-section-item input {\n",
       "  display: none;\n",
       "}\n",
       "\n",
       ".xr-section-item input + label {\n",
       "  color: var(--xr-disabled-color);\n",
       "}\n",
       "\n",
       ".xr-section-item input:enabled + label {\n",
       "  cursor: pointer;\n",
       "  color: var(--xr-font-color2);\n",
       "}\n",
       "\n",
       ".xr-section-item input:enabled + label:hover {\n",
       "  color: var(--xr-font-color0);\n",
       "}\n",
       "\n",
       ".xr-section-summary {\n",
       "  grid-column: 1;\n",
       "  color: var(--xr-font-color2);\n",
       "  font-weight: 500;\n",
       "}\n",
       "\n",
       ".xr-section-summary > span {\n",
       "  display: inline-block;\n",
       "  padding-left: 0.5em;\n",
       "}\n",
       "\n",
       ".xr-section-summary-in:disabled + label {\n",
       "  color: var(--xr-font-color2);\n",
       "}\n",
       "\n",
       ".xr-section-summary-in + label:before {\n",
       "  display: inline-block;\n",
       "  content: '►';\n",
       "  font-size: 11px;\n",
       "  width: 15px;\n",
       "  text-align: center;\n",
       "}\n",
       "\n",
       ".xr-section-summary-in:disabled + label:before {\n",
       "  color: var(--xr-disabled-color);\n",
       "}\n",
       "\n",
       ".xr-section-summary-in:checked + label:before {\n",
       "  content: '▼';\n",
       "}\n",
       "\n",
       ".xr-section-summary-in:checked + label > span {\n",
       "  display: none;\n",
       "}\n",
       "\n",
       ".xr-section-summary,\n",
       ".xr-section-inline-details {\n",
       "  padding-top: 4px;\n",
       "  padding-bottom: 4px;\n",
       "}\n",
       "\n",
       ".xr-section-inline-details {\n",
       "  grid-column: 2 / -1;\n",
       "}\n",
       "\n",
       ".xr-section-details {\n",
       "  display: none;\n",
       "  grid-column: 1 / -1;\n",
       "  margin-bottom: 5px;\n",
       "}\n",
       "\n",
       ".xr-section-summary-in:checked ~ .xr-section-details {\n",
       "  display: contents;\n",
       "}\n",
       "\n",
       ".xr-array-wrap {\n",
       "  grid-column: 1 / -1;\n",
       "  display: grid;\n",
       "  grid-template-columns: 20px auto;\n",
       "}\n",
       "\n",
       ".xr-array-wrap > label {\n",
       "  grid-column: 1;\n",
       "  vertical-align: top;\n",
       "}\n",
       "\n",
       ".xr-preview {\n",
       "  color: var(--xr-font-color3);\n",
       "}\n",
       "\n",
       ".xr-array-preview,\n",
       ".xr-array-data {\n",
       "  padding: 0 5px !important;\n",
       "  grid-column: 2;\n",
       "}\n",
       "\n",
       ".xr-array-data,\n",
       ".xr-array-in:checked ~ .xr-array-preview {\n",
       "  display: none;\n",
       "}\n",
       "\n",
       ".xr-array-in:checked ~ .xr-array-data,\n",
       ".xr-array-preview {\n",
       "  display: inline-block;\n",
       "}\n",
       "\n",
       ".xr-dim-list {\n",
       "  display: inline-block !important;\n",
       "  list-style: none;\n",
       "  padding: 0 !important;\n",
       "  margin: 0;\n",
       "}\n",
       "\n",
       ".xr-dim-list li {\n",
       "  display: inline-block;\n",
       "  padding: 0;\n",
       "  margin: 0;\n",
       "}\n",
       "\n",
       ".xr-dim-list:before {\n",
       "  content: '(';\n",
       "}\n",
       "\n",
       ".xr-dim-list:after {\n",
       "  content: ')';\n",
       "}\n",
       "\n",
       ".xr-dim-list li:not(:last-child):after {\n",
       "  content: ',';\n",
       "  padding-right: 5px;\n",
       "}\n",
       "\n",
       ".xr-has-index {\n",
       "  font-weight: bold;\n",
       "}\n",
       "\n",
       ".xr-var-list,\n",
       ".xr-var-item {\n",
       "  display: contents;\n",
       "}\n",
       "\n",
       ".xr-var-item > div,\n",
       ".xr-var-item label,\n",
       ".xr-var-item > .xr-var-name span {\n",
       "  background-color: var(--xr-background-color-row-even);\n",
       "  margin-bottom: 0;\n",
       "}\n",
       "\n",
       ".xr-var-item > .xr-var-name:hover span {\n",
       "  padding-right: 5px;\n",
       "}\n",
       "\n",
       ".xr-var-list > li:nth-child(odd) > div,\n",
       ".xr-var-list > li:nth-child(odd) > label,\n",
       ".xr-var-list > li:nth-child(odd) > .xr-var-name span {\n",
       "  background-color: var(--xr-background-color-row-odd);\n",
       "}\n",
       "\n",
       ".xr-var-name {\n",
       "  grid-column: 1;\n",
       "}\n",
       "\n",
       ".xr-var-dims {\n",
       "  grid-column: 2;\n",
       "}\n",
       "\n",
       ".xr-var-dtype {\n",
       "  grid-column: 3;\n",
       "  text-align: right;\n",
       "  color: var(--xr-font-color2);\n",
       "}\n",
       "\n",
       ".xr-var-preview {\n",
       "  grid-column: 4;\n",
       "}\n",
       "\n",
       ".xr-index-preview {\n",
       "  grid-column: 2 / 5;\n",
       "  color: var(--xr-font-color2);\n",
       "}\n",
       "\n",
       ".xr-var-name,\n",
       ".xr-var-dims,\n",
       ".xr-var-dtype,\n",
       ".xr-preview,\n",
       ".xr-attrs dt {\n",
       "  white-space: nowrap;\n",
       "  overflow: hidden;\n",
       "  text-overflow: ellipsis;\n",
       "  padding-right: 10px;\n",
       "}\n",
       "\n",
       ".xr-var-name:hover,\n",
       ".xr-var-dims:hover,\n",
       ".xr-var-dtype:hover,\n",
       ".xr-attrs dt:hover {\n",
       "  overflow: visible;\n",
       "  width: auto;\n",
       "  z-index: 1;\n",
       "}\n",
       "\n",
       ".xr-var-attrs,\n",
       ".xr-var-data,\n",
       ".xr-index-data {\n",
       "  display: none;\n",
       "  background-color: var(--xr-background-color) !important;\n",
       "  padding-bottom: 5px !important;\n",
       "}\n",
       "\n",
       ".xr-var-attrs-in:checked ~ .xr-var-attrs,\n",
       ".xr-var-data-in:checked ~ .xr-var-data,\n",
       ".xr-index-data-in:checked ~ .xr-index-data {\n",
       "  display: block;\n",
       "}\n",
       "\n",
       ".xr-var-data > table {\n",
       "  float: right;\n",
       "}\n",
       "\n",
       ".xr-var-name span,\n",
       ".xr-var-data,\n",
       ".xr-index-name div,\n",
       ".xr-index-data,\n",
       ".xr-attrs {\n",
       "  padding-left: 25px !important;\n",
       "}\n",
       "\n",
       ".xr-attrs,\n",
       ".xr-var-attrs,\n",
       ".xr-var-data,\n",
       ".xr-index-data {\n",
       "  grid-column: 1 / -1;\n",
       "}\n",
       "\n",
       "dl.xr-attrs {\n",
       "  padding: 0;\n",
       "  margin: 0;\n",
       "  display: grid;\n",
       "  grid-template-columns: 125px auto;\n",
       "}\n",
       "\n",
       ".xr-attrs dt,\n",
       ".xr-attrs dd {\n",
       "  padding: 0;\n",
       "  margin: 0;\n",
       "  float: left;\n",
       "  padding-right: 10px;\n",
       "  width: auto;\n",
       "}\n",
       "\n",
       ".xr-attrs dt {\n",
       "  font-weight: normal;\n",
       "  grid-column: 1;\n",
       "}\n",
       "\n",
       ".xr-attrs dt:hover span {\n",
       "  display: inline-block;\n",
       "  background: var(--xr-background-color);\n",
       "  padding-right: 10px;\n",
       "}\n",
       "\n",
       ".xr-attrs dd {\n",
       "  grid-column: 2;\n",
       "  white-space: pre-wrap;\n",
       "  word-break: break-all;\n",
       "}\n",
       "\n",
       ".xr-icon-database,\n",
       ".xr-icon-file-text2,\n",
       ".xr-no-icon {\n",
       "  display: inline-block;\n",
       "  vertical-align: middle;\n",
       "  width: 1em;\n",
       "  height: 1.5em !important;\n",
       "  stroke-width: 0;\n",
       "  stroke: currentColor;\n",
       "  fill: currentColor;\n",
       "}\n",
       "</style><pre class='xr-text-repr-fallback'>&lt;xarray.Dataset&gt; Size: 3GB\n",
       "Dimensions:    (time: 720, latitude: 721, longitude: 1440)\n",
       "Coordinates:\n",
       "  * latitude   (latitude) float64 6kB 90.0 89.75 89.5 ... -89.5 -89.75 -90.0\n",
       "  * longitude  (longitude) float64 12kB 0.0 0.25 0.5 0.75 ... 359.2 359.5 359.8\n",
       "  * time       (time) datetime64[ns] 6kB 1952-06-01 ... 1952-06-30T23:00:00\n",
       "Data variables:\n",
       "    VAR_2T     (time, latitude, longitude) float32 3GB ...\n",
       "    utc_date   (time) int32 3kB ...\n",
       "Attributes:\n",
       "    DATA_SOURCE:          ECMWF: https://cds.climate.copernicus.eu, Copernicu...\n",
       "    NETCDF_CONVERSION:    CISL RDA: Conversion from ECMWF GRIB1 data to netCDF4.\n",
       "    NETCDF_VERSION:       4.8.1\n",
       "    CONVERSION_PLATFORM:  Linux r1i4n1 4.12.14-95.51-default #1 SMP Fri Apr 1...\n",
       "    CONVERSION_DATE:      Thu Apr 13 23:26:24 MDT 2023\n",
       "    Conventions:          CF-1.6\n",
       "    NETCDF_COMPRESSION:   NCO: Precision-preserving compression to netCDF4/HD...\n",
       "    history:              Thu Apr 13 23:26:40 2023: ncks -4 --ppc default=7 e...\n",
       "    NCO:                  netCDF Operators version 5.0.3 (Homepage = http://n...</pre><div class='xr-wrap' style='display:none'><div class='xr-header'><div class='xr-obj-type'>xarray.Dataset</div></div><ul class='xr-sections'><li class='xr-section-item'><input id='section-d22e7800-e9ca-4e9b-a3bb-7955e2e129a9' class='xr-section-summary-in' type='checkbox' disabled ><label for='section-d22e7800-e9ca-4e9b-a3bb-7955e2e129a9' class='xr-section-summary'  title='Expand/collapse section'>Dimensions:</label><div class='xr-section-inline-details'><ul class='xr-dim-list'><li><span class='xr-has-index'>time</span>: 720</li><li><span class='xr-has-index'>latitude</span>: 721</li><li><span class='xr-has-index'>longitude</span>: 1440</li></ul></div><div class='xr-section-details'></div></li><li class='xr-section-item'><input id='section-531916e6-b10a-4ae6-a1f9-e5b834527ae6' class='xr-section-summary-in' type='checkbox'  checked><label for='section-531916e6-b10a-4ae6-a1f9-e5b834527ae6' class='xr-section-summary' >Coordinates: <span>(3)</span></label><div class='xr-section-inline-details'></div><div class='xr-section-details'><ul class='xr-var-list'><li class='xr-var-item'><div class='xr-var-name'><span class='xr-has-index'>latitude</span></div><div class='xr-var-dims'>(latitude)</div><div class='xr-var-dtype'>float64</div><div class='xr-var-preview xr-preview'>90.0 89.75 89.5 ... -89.75 -90.0</div><input id='attrs-16d41c43-3a5a-499e-81d4-bd18bc063930' class='xr-var-attrs-in' type='checkbox' ><label for='attrs-16d41c43-3a5a-499e-81d4-bd18bc063930' title='Show/Hide attributes'><svg class='icon xr-icon-file-text2'><use xlink:href='#icon-file-text2'></use></svg></label><input id='data-6b22c41e-5bbf-4b15-a634-103658b20c76' class='xr-var-data-in' type='checkbox'><label for='data-6b22c41e-5bbf-4b15-a634-103658b20c76' title='Show/Hide data repr'><svg class='icon xr-icon-database'><use xlink:href='#icon-database'></use></svg></label><div class='xr-var-attrs'><dl class='xr-attrs'><dt><span>long_name :</span></dt><dd>latitude</dd><dt><span>short_name :</span></dt><dd>lat</dd><dt><span>units :</span></dt><dd>degrees_north</dd></dl></div><div class='xr-var-data'><pre>array([ 90.  ,  89.75,  89.5 , ..., -89.5 , -89.75, -90.  ])</pre></div></li><li class='xr-var-item'><div class='xr-var-name'><span class='xr-has-index'>longitude</span></div><div class='xr-var-dims'>(longitude)</div><div class='xr-var-dtype'>float64</div><div class='xr-var-preview xr-preview'>0.0 0.25 0.5 ... 359.2 359.5 359.8</div><input id='attrs-24d66ecd-0098-4241-9082-04763c66e152' class='xr-var-attrs-in' type='checkbox' ><label for='attrs-24d66ecd-0098-4241-9082-04763c66e152' title='Show/Hide attributes'><svg class='icon xr-icon-file-text2'><use xlink:href='#icon-file-text2'></use></svg></label><input id='data-9a6069df-81be-4176-a6b5-fdad5c861f37' class='xr-var-data-in' type='checkbox'><label for='data-9a6069df-81be-4176-a6b5-fdad5c861f37' title='Show/Hide data repr'><svg class='icon xr-icon-database'><use xlink:href='#icon-database'></use></svg></label><div class='xr-var-attrs'><dl class='xr-attrs'><dt><span>long_name :</span></dt><dd>longitude</dd><dt><span>short_name :</span></dt><dd>lon</dd><dt><span>units :</span></dt><dd>degrees_east</dd></dl></div><div class='xr-var-data'><pre>array([0.0000e+00, 2.5000e-01, 5.0000e-01, ..., 3.5925e+02, 3.5950e+02,\n",
       "       3.5975e+02])</pre></div></li><li class='xr-var-item'><div class='xr-var-name'><span class='xr-has-index'>time</span></div><div class='xr-var-dims'>(time)</div><div class='xr-var-dtype'>datetime64[ns]</div><div class='xr-var-preview xr-preview'>1952-06-01 ... 1952-06-30T23:00:00</div><input id='attrs-131b9100-a50d-49fb-bb78-12b5fac6598a' class='xr-var-attrs-in' type='checkbox' ><label for='attrs-131b9100-a50d-49fb-bb78-12b5fac6598a' title='Show/Hide attributes'><svg class='icon xr-icon-file-text2'><use xlink:href='#icon-file-text2'></use></svg></label><input id='data-b181be02-2577-4c8d-9795-a78943690155' class='xr-var-data-in' type='checkbox'><label for='data-b181be02-2577-4c8d-9795-a78943690155' title='Show/Hide data repr'><svg class='icon xr-icon-database'><use xlink:href='#icon-database'></use></svg></label><div class='xr-var-attrs'><dl class='xr-attrs'><dt><span>long_name :</span></dt><dd>time</dd></dl></div><div class='xr-var-data'><pre>array([&#x27;1952-06-01T00:00:00.000000000&#x27;, &#x27;1952-06-01T01:00:00.000000000&#x27;,\n",
       "       &#x27;1952-06-01T02:00:00.000000000&#x27;, ..., &#x27;1952-06-30T21:00:00.000000000&#x27;,\n",
       "       &#x27;1952-06-30T22:00:00.000000000&#x27;, &#x27;1952-06-30T23:00:00.000000000&#x27;],\n",
       "      dtype=&#x27;datetime64[ns]&#x27;)</pre></div></li></ul></div></li><li class='xr-section-item'><input id='section-a93b4183-ca67-47a4-b873-5fb847fc8c53' class='xr-section-summary-in' type='checkbox'  checked><label for='section-a93b4183-ca67-47a4-b873-5fb847fc8c53' class='xr-section-summary' >Data variables: <span>(2)</span></label><div class='xr-section-inline-details'></div><div class='xr-section-details'><ul class='xr-var-list'><li class='xr-var-item'><div class='xr-var-name'><span>VAR_2T</span></div><div class='xr-var-dims'>(time, latitude, longitude)</div><div class='xr-var-dtype'>float32</div><div class='xr-var-preview xr-preview'>...</div><input id='attrs-da6dcca9-456a-4b92-937e-b09df007c64c' class='xr-var-attrs-in' type='checkbox' ><label for='attrs-da6dcca9-456a-4b92-937e-b09df007c64c' title='Show/Hide attributes'><svg class='icon xr-icon-file-text2'><use xlink:href='#icon-file-text2'></use></svg></label><input id='data-d93661ff-38f7-486c-a109-01eb67c5c90b' class='xr-var-data-in' type='checkbox'><label for='data-d93661ff-38f7-486c-a109-01eb67c5c90b' title='Show/Hide data repr'><svg class='icon xr-icon-database'><use xlink:href='#icon-database'></use></svg></label><div class='xr-var-attrs'><dl class='xr-attrs'><dt><span>long_name :</span></dt><dd>2 metre temperature</dd><dt><span>short_name :</span></dt><dd>2t</dd><dt><span>units :</span></dt><dd>K</dd><dt><span>original_format :</span></dt><dd>WMO GRIB 1 with ECMWF local table</dd><dt><span>ecmwf_local_table :</span></dt><dd>128</dd><dt><span>ecmwf_parameter :</span></dt><dd>167</dd><dt><span>minimum_value :</span></dt><dd>192.10837</dd><dt><span>maximum_value :</span></dt><dd>323.47018</dd><dt><span>grid_specification :</span></dt><dd>0.25 degree x 0.25 degree from 90N to 90S and 0E to 359.75E (721 x 1440 Latitude/Longitude)</dd><dt><span>rda_dataset :</span></dt><dd>ds633.0</dd><dt><span>rda_dataset_url :</span></dt><dd>https:/rda.ucar.edu/datasets/ds633.0/</dd><dt><span>rda_dataset_doi :</span></dt><dd>DOI: 10.5065/BH6N-5N20</dd><dt><span>rda_dataset_group :</span></dt><dd>ERA5 atmospheric surface analysis [netCDF4]</dd><dt><span>QuantizeGranularBitGroomNumberOfSignificantDigits :</span></dt><dd>7</dd></dl></div><div class='xr-var-data'><pre>[747532800 values with dtype=float32]</pre></div></li><li class='xr-var-item'><div class='xr-var-name'><span>utc_date</span></div><div class='xr-var-dims'>(time)</div><div class='xr-var-dtype'>int32</div><div class='xr-var-preview xr-preview'>...</div><input id='attrs-6a50d56d-def2-4912-bdee-c09be467c54a' class='xr-var-attrs-in' type='checkbox' ><label for='attrs-6a50d56d-def2-4912-bdee-c09be467c54a' title='Show/Hide attributes'><svg class='icon xr-icon-file-text2'><use xlink:href='#icon-file-text2'></use></svg></label><input id='data-368a3446-65f7-4454-b52b-ff4d077fb735' class='xr-var-data-in' type='checkbox'><label for='data-368a3446-65f7-4454-b52b-ff4d077fb735' title='Show/Hide data repr'><svg class='icon xr-icon-database'><use xlink:href='#icon-database'></use></svg></label><div class='xr-var-attrs'><dl class='xr-attrs'><dt><span>long_name :</span></dt><dd>UTC date yyyy-mm-dd hh:00:00 as yyyymmddhh</dd><dt><span>units :</span></dt><dd>Gregorian_year month day hour</dd></dl></div><div class='xr-var-data'><pre>[720 values with dtype=int32]</pre></div></li></ul></div></li><li class='xr-section-item'><input id='section-a5c63738-9cf1-4c8f-9838-f90975ea46fb' class='xr-section-summary-in' type='checkbox'  ><label for='section-a5c63738-9cf1-4c8f-9838-f90975ea46fb' class='xr-section-summary' >Indexes: <span>(3)</span></label><div class='xr-section-inline-details'></div><div class='xr-section-details'><ul class='xr-var-list'><li class='xr-var-item'><div class='xr-index-name'><div>latitude</div></div><div class='xr-index-preview'>PandasIndex</div><div></div><input id='index-37a26337-bf8f-4895-8f55-8c0c5cbc6e97' class='xr-index-data-in' type='checkbox'/><label for='index-37a26337-bf8f-4895-8f55-8c0c5cbc6e97' title='Show/Hide index repr'><svg class='icon xr-icon-database'><use xlink:href='#icon-database'></use></svg></label><div class='xr-index-data'><pre>PandasIndex(Index([  90.0,  89.75,   89.5,  89.25,   89.0,  88.75,   88.5,  88.25,   88.0,\n",
       "        87.75,\n",
       "       ...\n",
       "       -87.75,  -88.0, -88.25,  -88.5, -88.75,  -89.0, -89.25,  -89.5, -89.75,\n",
       "        -90.0],\n",
       "      dtype=&#x27;float64&#x27;, name=&#x27;latitude&#x27;, length=721))</pre></div></li><li class='xr-var-item'><div class='xr-index-name'><div>longitude</div></div><div class='xr-index-preview'>PandasIndex</div><div></div><input id='index-532394d3-7288-4ddb-8600-b5b1b5548eb0' class='xr-index-data-in' type='checkbox'/><label for='index-532394d3-7288-4ddb-8600-b5b1b5548eb0' title='Show/Hide index repr'><svg class='icon xr-icon-database'><use xlink:href='#icon-database'></use></svg></label><div class='xr-index-data'><pre>PandasIndex(Index([   0.0,   0.25,    0.5,   0.75,    1.0,   1.25,    1.5,   1.75,    2.0,\n",
       "         2.25,\n",
       "       ...\n",
       "        357.5, 357.75,  358.0, 358.25,  358.5, 358.75,  359.0, 359.25,  359.5,\n",
       "       359.75],\n",
       "      dtype=&#x27;float64&#x27;, name=&#x27;longitude&#x27;, length=1440))</pre></div></li><li class='xr-var-item'><div class='xr-index-name'><div>time</div></div><div class='xr-index-preview'>PandasIndex</div><div></div><input id='index-967c7940-0dd1-4957-bc09-895854ce6adb' class='xr-index-data-in' type='checkbox'/><label for='index-967c7940-0dd1-4957-bc09-895854ce6adb' title='Show/Hide index repr'><svg class='icon xr-icon-database'><use xlink:href='#icon-database'></use></svg></label><div class='xr-index-data'><pre>PandasIndex(DatetimeIndex([&#x27;1952-06-01 00:00:00&#x27;, &#x27;1952-06-01 01:00:00&#x27;,\n",
       "               &#x27;1952-06-01 02:00:00&#x27;, &#x27;1952-06-01 03:00:00&#x27;,\n",
       "               &#x27;1952-06-01 04:00:00&#x27;, &#x27;1952-06-01 05:00:00&#x27;,\n",
       "               &#x27;1952-06-01 06:00:00&#x27;, &#x27;1952-06-01 07:00:00&#x27;,\n",
       "               &#x27;1952-06-01 08:00:00&#x27;, &#x27;1952-06-01 09:00:00&#x27;,\n",
       "               ...\n",
       "               &#x27;1952-06-30 14:00:00&#x27;, &#x27;1952-06-30 15:00:00&#x27;,\n",
       "               &#x27;1952-06-30 16:00:00&#x27;, &#x27;1952-06-30 17:00:00&#x27;,\n",
       "               &#x27;1952-06-30 18:00:00&#x27;, &#x27;1952-06-30 19:00:00&#x27;,\n",
       "               &#x27;1952-06-30 20:00:00&#x27;, &#x27;1952-06-30 21:00:00&#x27;,\n",
       "               &#x27;1952-06-30 22:00:00&#x27;, &#x27;1952-06-30 23:00:00&#x27;],\n",
       "              dtype=&#x27;datetime64[ns]&#x27;, name=&#x27;time&#x27;, length=720, freq=None))</pre></div></li></ul></div></li><li class='xr-section-item'><input id='section-8a097d3f-cb85-4c89-83dd-857e136ef4c2' class='xr-section-summary-in' type='checkbox'  checked><label for='section-8a097d3f-cb85-4c89-83dd-857e136ef4c2' class='xr-section-summary' >Attributes: <span>(9)</span></label><div class='xr-section-inline-details'></div><div class='xr-section-details'><dl class='xr-attrs'><dt><span>DATA_SOURCE :</span></dt><dd>ECMWF: https://cds.climate.copernicus.eu, Copernicus Climate Data Store</dd><dt><span>NETCDF_CONVERSION :</span></dt><dd>CISL RDA: Conversion from ECMWF GRIB1 data to netCDF4.</dd><dt><span>NETCDF_VERSION :</span></dt><dd>4.8.1</dd><dt><span>CONVERSION_PLATFORM :</span></dt><dd>Linux r1i4n1 4.12.14-95.51-default #1 SMP Fri Apr 17 08:14:12 UTC 2020 (c6bab98) x86_64 x86_64 x86_64 GNU/Linux</dd><dt><span>CONVERSION_DATE :</span></dt><dd>Thu Apr 13 23:26:24 MDT 2023</dd><dt><span>Conventions :</span></dt><dd>CF-1.6</dd><dt><span>NETCDF_COMPRESSION :</span></dt><dd>NCO: Precision-preserving compression to netCDF4/HDF5 (see &quot;history&quot; and &quot;NCO&quot; global attributes below for specifics).</dd><dt><span>history :</span></dt><dd>Thu Apr 13 23:26:40 2023: ncks -4 --ppc default=7 e5.oper.an.sfc.128_167_2t.ll025sc.1952060100_1952063023.unc.nc e5.oper.an.sfc.128_167_2t.ll025sc.1952060100_1952063023.nc</dd><dt><span>NCO :</span></dt><dd>netCDF Operators version 5.0.3 (Homepage = http://nco.sf.net, Code = http://github.com/nco/nco)</dd></dl></div></li></ul></div></div>"
      ],
      "text/plain": [
       "<xarray.Dataset> Size: 3GB\n",
       "Dimensions:    (time: 720, latitude: 721, longitude: 1440)\n",
       "Coordinates:\n",
       "  * latitude   (latitude) float64 6kB 90.0 89.75 89.5 ... -89.5 -89.75 -90.0\n",
       "  * longitude  (longitude) float64 12kB 0.0 0.25 0.5 0.75 ... 359.2 359.5 359.8\n",
       "  * time       (time) datetime64[ns] 6kB 1952-06-01 ... 1952-06-30T23:00:00\n",
       "Data variables:\n",
       "    VAR_2T     (time, latitude, longitude) float32 3GB ...\n",
       "    utc_date   (time) int32 3kB ...\n",
       "Attributes:\n",
       "    DATA_SOURCE:          ECMWF: https://cds.climate.copernicus.eu, Copernicu...\n",
       "    NETCDF_CONVERSION:    CISL RDA: Conversion from ECMWF GRIB1 data to netCDF4.\n",
       "    NETCDF_VERSION:       4.8.1\n",
       "    CONVERSION_PLATFORM:  Linux r1i4n1 4.12.14-95.51-default #1 SMP Fri Apr 1...\n",
       "    CONVERSION_DATE:      Thu Apr 13 23:26:24 MDT 2023\n",
       "    Conventions:          CF-1.6\n",
       "    NETCDF_COMPRESSION:   NCO: Precision-preserving compression to netCDF4/HD...\n",
       "    history:              Thu Apr 13 23:26:40 2023: ncks -4 --ppc default=7 e...\n",
       "    NCO:                  netCDF Operators version 5.0.3 (Homepage = http://n..."
      ]
     },
     "execution_count": 15,
     "metadata": {},
     "output_type": "execute_result"
    }
   ],
   "source": [
    "#xr.open_dataset ('https://data.rda.ucar.edu/ds633.0/e5.oper.an.sfc/195206/e5.oper.an.sfc.128_167_2t.ll025sc.1952060100_1952063023.nc#mode=bytes',engine='netcdf4')"
   ]
  },
  {
   "cell_type": "code",
   "execution_count": 16,
   "id": "f04941db-9d52-4508-8f12-09a3ef3f59ae",
   "metadata": {},
   "outputs": [],
   "source": [
    "# # Ensure that the catalog entries are correctly handled\n",
    "# for key in temp_cat.df['path']:\n",
    "#     print(f\"Processing {key}\")h5"
   ]
  },
  {
   "cell_type": "code",
   "execution_count": null,
   "id": "4b8ee2b6-5732-4062-82f0-dea7ebf27cdd",
   "metadata": {
    "scrolled": true
   },
   "outputs": [
    {
     "name": "stdout",
     "output_type": "stream",
     "text": [
      "\n",
      "--> The keys in the returned dictionary of datasets are constructed as follows:\n",
      "\t'datatype.step_type'\n"
     ]
    },
    {
     "data": {
      "text/html": [
       "\n",
       "<style>\n",
       "    /* Turns off some styling */\n",
       "    progress {\n",
       "        /* gets rid of default border in Firefox and Opera. */\n",
       "        border: none;\n",
       "        /* Needs to be in here for Safari polyfill so background images work as expected. */\n",
       "        background-size: auto;\n",
       "    }\n",
       "    progress:not([value]), progress:not([value])::-webkit-progress-bar {\n",
       "        background: repeating-linear-gradient(45deg, #7e7e7e, #7e7e7e 10px, #5c5c5c 10px, #5c5c5c 20px);\n",
       "    }\n",
       "    .progress-bar-interrupted, .progress-bar-interrupted::-webkit-progress-bar {\n",
       "        background: #F44336;\n",
       "    }\n",
       "</style>\n"
      ],
      "text/plain": [
       "<IPython.core.display.HTML object>"
      ]
     },
     "metadata": {},
     "output_type": "display_data"
    },
    {
     "data": {
      "text/html": [
       "\n",
       "    <div>\n",
       "      <progress value='0' class='' max='1' style='width:300px; height:20px; vertical-align: middle;'></progress>\n",
       "      0.00% [0/1 00:00&lt;?]\n",
       "    </div>\n",
       "    "
      ],
      "text/plain": [
       "<IPython.core.display.HTML object>"
      ]
     },
     "metadata": {},
     "output_type": "display_data"
    }
   ],
   "source": [
    "dsets = temp_cat.to_dataset_dict(xarray_open_kwargs=xarray_open_kwargs)"
   ]
  },
  {
   "cell_type": "code",
   "execution_count": null,
   "id": "fd05df0a-1119-4b5a-8e22-f191d8697d4d",
   "metadata": {},
   "outputs": [],
   "source": [
    "temp_cat['an.sfc'].df"
   ]
  },
  {
   "cell_type": "code",
   "execution_count": null,
   "id": "8a830e91-fbec-4438-97e3-de670725f5c8",
   "metadata": {},
   "outputs": [],
   "source": [
    "dsets.keys()"
   ]
  },
  {
   "cell_type": "markdown",
   "id": "6354a0ce-36fe-4b9d-a44a-005b0119d6fe",
   "metadata": {},
   "source": [
    "- Extract dataset using dictionary"
   ]
  },
  {
   "cell_type": "code",
   "execution_count": null,
   "id": "b9958845-ac92-4fe7-bd6f-62d27ca00981",
   "metadata": {},
   "outputs": [],
   "source": [
    "temp_2m = dsets['an.sfc'].VAR_2T\n",
    "temp_2m"
   ]
  },
  {
   "cell_type": "markdown",
   "id": "56f909bd-bbd4-4bfb-931d-2e3d136ce255",
   "metadata": {},
   "source": [
    "- Select data corresponding to the dayofyear and colorado for the years baseline_year and current_year"
   ]
  },
  {
   "cell_type": "code",
   "execution_count": null,
   "id": "8585c8f2-c89c-4a82-b184-05284920bd4e",
   "metadata": {},
   "outputs": [],
   "source": [
    "# Create a pandas Timestamp\n",
    "current_date  = pd.Timestamp(year=current_year, month=month, day=day)\n",
    "baseline_date =  pd.Timestamp(year=baseline_year, month=month, day=day)\n",
    "current_date"
   ]
  },
  {
   "cell_type": "code",
   "execution_count": null,
   "id": "39ee90d5-666d-41a4-94f9-1b0a77162142",
   "metadata": {},
   "outputs": [],
   "source": [
    "t2m_colorado_current = temp_2m.sel(latitude=slice(colorado_top,colorado_bottom),\\\n",
    "                                         longitude=slice(colorado_right,colorado_left)).sel(time=slice(current_date,current_date+  pd.Timedelta(days=1)))\n",
    "t2m_colorado_current"
   ]
  },
  {
   "cell_type": "code",
   "execution_count": null,
   "id": "de91a835-1948-425f-a2ca-d41afe4bdd0c",
   "metadata": {},
   "outputs": [],
   "source": [
    "t2m_colorado_baseline = temp_2m.sel(latitude=slice(colorado_top,colorado_bottom),\\\n",
    "                                         longitude=slice(colorado_right,colorado_left)).sel(time=slice(current_date,current_date+  pd.Timedelta(days=1)))\n",
    "t2m_colorado_baseline"
   ]
  },
  {
   "cell_type": "code",
   "execution_count": null,
   "id": "b6b456b2-fae3-4f39-a5bb-3ee348c9a987",
   "metadata": {},
   "outputs": [],
   "source": [
    "max_t2m_colorado_anomaly = t2m_colorado_current.max('time') - t2m_colorado_baseline.max('time')\n",
    "max_t2m_colorado_anomaly"
   ]
  },
  {
   "cell_type": "markdown",
   "id": "d7ab5f62-057b-41c6-b361-12db33ca2f7f",
   "metadata": {},
   "source": [
    "## Let us now plot this data with a map of Colorado in the background"
   ]
  },
  {
   "cell_type": "code",
   "execution_count": null,
   "id": "9640b391-d171-4e92-95d8-873f9cffd1ab",
   "metadata": {},
   "outputs": [],
   "source": [
    "# Extract the latitude, longitude, and data\n",
    "latitude = max_t2m_colorado_anomaly['latitude'].values\n",
    "longitude = max_t2m_colorado_anomaly['longitude'].values\n",
    "max_t2m_colorado_anomaly = max_t2m_colorado_anomaly.data"
   ]
  },
  {
   "cell_type": "code",
   "execution_count": null,
   "id": "dc3430d5-f436-45a3-9554-e6d22e14ce34",
   "metadata": {},
   "outputs": [],
   "source": [
    "# Create the plot\n",
    "proj = ccrs.PlateCarree(central_longitude=180)\n",
    "tiles = gv.tile_sources.ESRI()\n",
    "\n",
    "# Define the state borders feature\n",
    "states = cfeature.NaturalEarthFeature(\n",
    "    category='cultural',\n",
    "    name='admin_1_states_provinces_lines',\n",
    "    scale='110m',\n",
    "    facecolor='none'\n",
    ")\n",
    "\n",
    "# Create a GeoViews plot\n",
    "plot = gv.Image((longitude, latitude, max_t2m_colorado_anomaly), crs=proj, vdims='value').opts(\n",
    "    cmap='viridis',\n",
    "    colorbar=True,\n",
    "    width=800,\n",
    "    height=600\n",
    ")\n",
    "\n",
    "# Add state borders and other features\n",
    "state_borders = gv.feature.Feature(states, group='State Borders').opts(line_color='black')\n",
    "# borders = gv.feature.borders.opts(line_dash='dotted', zorder=2)\n",
    "# state_lines = gv.feature.states.opts(line_color='black', zorder=3)\n",
    "# borders = gv.feature.borders.opts(line_dash='dotted')\n",
    "# state_lines = gv.feature.states.opts(line_color='black')\n",
    "\n",
    "# Combine everything into a single plot\n",
    "final_plot = tiles * plot * state_borders * borders * state_lines\n",
    "\n",
    "# Display the plot\n",
    "hv.extension('bokeh')\n",
    "final_plot.opts(\n",
    "    opts.Overlay(projection=ccrs.PlateCarree(central_longitude=180), global_extent=False),\n",
    "    opts.Image(tools=['hover']),\n",
    "    opts.Feature(line_width=1.5)\n",
    ").opts(\n",
    "    opts.GridSpace(show_title=True, shared_xaxis=True, shared_yaxis=True, height=400, width=600)\n",
    ")\n",
    "\n",
    "# To add grid lines with labels, use the options on the plot directly\n",
    "final_plot.opts(\n",
    "    opts.Image(xaxis='bottom', yaxis='left', show_grid=True)\n",
    ")"
   ]
  },
  {
   "cell_type": "markdown",
   "id": "34b49979-a521-4be0-9fd8-6d41891c8261",
   "metadata": {},
   "source": [
    "## Close the Dask Cluster\n",
    "\n",
    "It's best practice to close the Dask cluster when it's no longer needed to free up the compute resources used."
   ]
  },
  {
   "cell_type": "code",
   "execution_count": null,
   "id": "3e51dddc-0c52-4299-8f19-57952838de91",
   "metadata": {},
   "outputs": [],
   "source": [
    "cluster.close()"
   ]
  },
  {
   "cell_type": "code",
   "execution_count": null,
   "id": "848d1fa1-85b5-4823-b9ee-bbee06c16e1b",
   "metadata": {},
   "outputs": [],
   "source": []
  }
 ],
 "metadata": {
  "kernelspec": {
   "display_name": "NPL 2024a",
   "language": "python",
   "name": "npl-2024a"
  },
  "language_info": {
   "codemirror_mode": {
    "name": "ipython",
    "version": 3
   },
   "file_extension": ".py",
   "mimetype": "text/x-python",
   "name": "python",
   "nbconvert_exporter": "python",
   "pygments_lexer": "ipython3",
   "version": "3.11.6"
  },
  "widgets": {
   "application/vnd.jupyter.widget-state+json": {
    "state": {
     "00310e6ba7444898b0fa89cf5b68229f": {
      "model_module": "@jupyter-widgets/controls",
      "model_module_version": "2.0.0",
      "model_name": "HTMLModel",
      "state": {
       "layout": "IPY_MODEL_984573e85bc94adaa22e5d91f844b120",
       "style": "IPY_MODEL_0aef0dfece314a03b3ccb0bd818774b2",
       "value": "<div class=\"jp-RenderedHTMLCommon jp-RenderedHTML jp-mod-trusted jp-OutputArea-output\">\n    <div style=\"width: 24px; height: 24px; background-color: #e1e1e1; border: 3px solid #9D9D9D; border-radius: 5px; position: absolute;\">\n    </div>\n    <div style=\"margin-left: 48px;\">\n        <h3 style=\"margin-bottom: 0px; margin-top: 0px;\">LocalCluster</h3>\n        <p style=\"color: #9D9D9D; margin-bottom: 0px;\">b37fd0be</p>\n        <table style=\"width: 100%; text-align: left;\">\n            <tr>\n                <td style=\"text-align: left;\">\n                    <strong>Dashboard:</strong> <a href=\"https://jupyterhub.hpc.ucar.edu/stable/user/negins/proxy/44005/status\" target=\"_blank\">https://jupyterhub.hpc.ucar.edu/stable/user/negins/proxy/44005/status</a>\n                </td>\n                <td style=\"text-align: left;\">\n                    <strong>Workers:</strong> 4\n                </td>\n            </tr>\n            <tr>\n                <td style=\"text-align: left;\">\n                    <strong>Total threads:</strong> 4\n                </td>\n                <td style=\"text-align: left;\">\n                    <strong>Total memory:</strong> 16.00 GiB\n                </td>\n            </tr>\n            \n            <tr>\n    <td style=\"text-align: left;\"><strong>Status:</strong> running</td>\n    <td style=\"text-align: left;\"><strong>Using processes:</strong> True</td>\n</tr>\n\n            \n        </table>\n\n        <details>\n            <summary style=\"margin-bottom: 20px;\">\n                <h3 style=\"display: inline;\">Scheduler Info</h3>\n            </summary>\n\n            <div style=\"\">\n    <div>\n        <div style=\"width: 24px; height: 24px; background-color: #FFF7E5; border: 3px solid #FF6132; border-radius: 5px; position: absolute;\"> </div>\n        <div style=\"margin-left: 48px;\">\n            <h3 style=\"margin-bottom: 0px;\">Scheduler</h3>\n            <p style=\"color: #9D9D9D; margin-bottom: 0px;\">Scheduler-ed2732a9-5de5-4636-bf81-66b2862abffa</p>\n            <table style=\"width: 100%; text-align: left;\">\n                <tr>\n                    <td style=\"text-align: left;\">\n                        <strong>Comm:</strong> tcp://127.0.0.1:42239\n                    </td>\n                    <td style=\"text-align: left;\">\n                        <strong>Workers:</strong> 4\n                    </td>\n                </tr>\n                <tr>\n                    <td style=\"text-align: left;\">\n                        <strong>Dashboard:</strong> <a href=\"https://jupyterhub.hpc.ucar.edu/stable/user/negins/proxy/44005/status\" target=\"_blank\">https://jupyterhub.hpc.ucar.edu/stable/user/negins/proxy/44005/status</a>\n                    </td>\n                    <td style=\"text-align: left;\">\n                        <strong>Total threads:</strong> 4\n                    </td>\n                </tr>\n                <tr>\n                    <td style=\"text-align: left;\">\n                        <strong>Started:</strong> 1 minute ago\n                    </td>\n                    <td style=\"text-align: left;\">\n                        <strong>Total memory:</strong> 16.00 GiB\n                    </td>\n                </tr>\n            </table>\n        </div>\n    </div>\n\n    <details style=\"margin-left: 48px;\">\n        <summary style=\"margin-bottom: 20px;\">\n            <h3 style=\"display: inline;\">Workers</h3>\n        </summary>\n\n        \n        <div style=\"margin-bottom: 20px;\">\n            <div style=\"width: 24px; height: 24px; background-color: #DBF5FF; border: 3px solid #4CC9FF; border-radius: 5px; position: absolute;\"> </div>\n            <div style=\"margin-left: 48px;\">\n            <details>\n                <summary>\n                    <h4 style=\"margin-bottom: 0px; display: inline;\">Worker: 0</h4>\n                </summary>\n                <table style=\"width: 100%; text-align: left;\">\n                    <tr>\n                        <td style=\"text-align: left;\">\n                            <strong>Comm: </strong> tcp://127.0.0.1:43123\n                        </td>\n                        <td style=\"text-align: left;\">\n                            <strong>Total threads: </strong> 1\n                        </td>\n                    </tr>\n                    <tr>\n                        <td style=\"text-align: left;\">\n                            <strong>Dashboard: </strong> <a href=\"https://jupyterhub.hpc.ucar.edu/stable/user/negins/proxy/42517/status\" target=\"_blank\">https://jupyterhub.hpc.ucar.edu/stable/user/negins/proxy/42517/status</a>\n                        </td>\n                        <td style=\"text-align: left;\">\n                            <strong>Memory: </strong> 4.00 GiB\n                        </td>\n                    </tr>\n                    <tr>\n                        <td style=\"text-align: left;\">\n                            <strong>Nanny: </strong> tcp://127.0.0.1:40829\n                        </td>\n                        <td style=\"text-align: left;\"></td>\n                    </tr>\n                    <tr>\n                        <td colspan=\"2\" style=\"text-align: left;\">\n                            <strong>Local directory: </strong> /glade/derecho/scratch/negins/tmp/dask-scratch-space/worker-bunn0xsk\n                        </td>\n                    </tr>\n\n                    \n\n                    \n\n                </table>\n            </details>\n            </div>\n        </div>\n        \n        <div style=\"margin-bottom: 20px;\">\n            <div style=\"width: 24px; height: 24px; background-color: #DBF5FF; border: 3px solid #4CC9FF; border-radius: 5px; position: absolute;\"> </div>\n            <div style=\"margin-left: 48px;\">\n            <details>\n                <summary>\n                    <h4 style=\"margin-bottom: 0px; display: inline;\">Worker: 1</h4>\n                </summary>\n                <table style=\"width: 100%; text-align: left;\">\n                    <tr>\n                        <td style=\"text-align: left;\">\n                            <strong>Comm: </strong> tcp://127.0.0.1:42127\n                        </td>\n                        <td style=\"text-align: left;\">\n                            <strong>Total threads: </strong> 1\n                        </td>\n                    </tr>\n                    <tr>\n                        <td style=\"text-align: left;\">\n                            <strong>Dashboard: </strong> <a href=\"https://jupyterhub.hpc.ucar.edu/stable/user/negins/proxy/41107/status\" target=\"_blank\">https://jupyterhub.hpc.ucar.edu/stable/user/negins/proxy/41107/status</a>\n                        </td>\n                        <td style=\"text-align: left;\">\n                            <strong>Memory: </strong> 4.00 GiB\n                        </td>\n                    </tr>\n                    <tr>\n                        <td style=\"text-align: left;\">\n                            <strong>Nanny: </strong> tcp://127.0.0.1:37257\n                        </td>\n                        <td style=\"text-align: left;\"></td>\n                    </tr>\n                    <tr>\n                        <td colspan=\"2\" style=\"text-align: left;\">\n                            <strong>Local directory: </strong> /glade/derecho/scratch/negins/tmp/dask-scratch-space/worker-7ftaw56f\n                        </td>\n                    </tr>\n\n                    \n\n                    \n\n                </table>\n            </details>\n            </div>\n        </div>\n        \n        <div style=\"margin-bottom: 20px;\">\n            <div style=\"width: 24px; height: 24px; background-color: #DBF5FF; border: 3px solid #4CC9FF; border-radius: 5px; position: absolute;\"> </div>\n            <div style=\"margin-left: 48px;\">\n            <details>\n                <summary>\n                    <h4 style=\"margin-bottom: 0px; display: inline;\">Worker: 2</h4>\n                </summary>\n                <table style=\"width: 100%; text-align: left;\">\n                    <tr>\n                        <td style=\"text-align: left;\">\n                            <strong>Comm: </strong> tcp://127.0.0.1:33271\n                        </td>\n                        <td style=\"text-align: left;\">\n                            <strong>Total threads: </strong> 1\n                        </td>\n                    </tr>\n                    <tr>\n                        <td style=\"text-align: left;\">\n                            <strong>Dashboard: </strong> <a href=\"https://jupyterhub.hpc.ucar.edu/stable/user/negins/proxy/46805/status\" target=\"_blank\">https://jupyterhub.hpc.ucar.edu/stable/user/negins/proxy/46805/status</a>\n                        </td>\n                        <td style=\"text-align: left;\">\n                            <strong>Memory: </strong> 4.00 GiB\n                        </td>\n                    </tr>\n                    <tr>\n                        <td style=\"text-align: left;\">\n                            <strong>Nanny: </strong> tcp://127.0.0.1:40343\n                        </td>\n                        <td style=\"text-align: left;\"></td>\n                    </tr>\n                    <tr>\n                        <td colspan=\"2\" style=\"text-align: left;\">\n                            <strong>Local directory: </strong> /glade/derecho/scratch/negins/tmp/dask-scratch-space/worker-xex0g4s7\n                        </td>\n                    </tr>\n\n                    \n\n                    \n\n                </table>\n            </details>\n            </div>\n        </div>\n        \n        <div style=\"margin-bottom: 20px;\">\n            <div style=\"width: 24px; height: 24px; background-color: #DBF5FF; border: 3px solid #4CC9FF; border-radius: 5px; position: absolute;\"> </div>\n            <div style=\"margin-left: 48px;\">\n            <details>\n                <summary>\n                    <h4 style=\"margin-bottom: 0px; display: inline;\">Worker: 3</h4>\n                </summary>\n                <table style=\"width: 100%; text-align: left;\">\n                    <tr>\n                        <td style=\"text-align: left;\">\n                            <strong>Comm: </strong> tcp://127.0.0.1:38815\n                        </td>\n                        <td style=\"text-align: left;\">\n                            <strong>Total threads: </strong> 1\n                        </td>\n                    </tr>\n                    <tr>\n                        <td style=\"text-align: left;\">\n                            <strong>Dashboard: </strong> <a href=\"https://jupyterhub.hpc.ucar.edu/stable/user/negins/proxy/45209/status\" target=\"_blank\">https://jupyterhub.hpc.ucar.edu/stable/user/negins/proxy/45209/status</a>\n                        </td>\n                        <td style=\"text-align: left;\">\n                            <strong>Memory: </strong> 4.00 GiB\n                        </td>\n                    </tr>\n                    <tr>\n                        <td style=\"text-align: left;\">\n                            <strong>Nanny: </strong> tcp://127.0.0.1:37869\n                        </td>\n                        <td style=\"text-align: left;\"></td>\n                    </tr>\n                    <tr>\n                        <td colspan=\"2\" style=\"text-align: left;\">\n                            <strong>Local directory: </strong> /glade/derecho/scratch/negins/tmp/dask-scratch-space/worker-u60doon_\n                        </td>\n                    </tr>\n\n                    \n\n                    \n\n                </table>\n            </details>\n            </div>\n        </div>\n        \n\n    </details>\n</div>\n\n        </details>\n    </div>\n</div>"
      }
     },
     "00f9b49f39cb43acadede9ee6ce769ba": {
      "model_module": "@jupyter-widgets/controls",
      "model_module_version": "2.0.0",
      "model_name": "AccordionModel",
      "state": {
       "children": [
        "IPY_MODEL_e222c82a8a684c2abf30d1d7cd3b2d6b",
        "IPY_MODEL_ec0f06cce47a45769e77e897ad539a9a"
       ],
       "layout": "IPY_MODEL_83fca3faff0d4c83817209b0f72e408a",
       "titles": [
        "Manual Scaling",
        "Adaptive Scaling"
       ]
      }
     },
     "0aef0dfece314a03b3ccb0bd818774b2": {
      "model_module": "@jupyter-widgets/controls",
      "model_module_version": "2.0.0",
      "model_name": "HTMLStyleModel",
      "state": {
       "description_width": "",
       "font_size": null,
       "text_color": null
      }
     },
     "202fedc9652c4d28b923a77a2fca725e": {
      "model_module": "@jupyter-widgets/base",
      "model_module_version": "2.0.0",
      "model_name": "LayoutModel",
      "state": {}
     },
     "34f05bbf747847b993751e6cb6dc4df2": {
      "model_module": "@jupyter-widgets/base",
      "model_module_version": "2.0.0",
      "model_name": "LayoutModel",
      "state": {}
     },
     "35b4263b6b654e5183baf9e7c6077713": {
      "model_module": "@jupyter-widgets/controls",
      "model_module_version": "2.0.0",
      "model_name": "IntTextModel",
      "state": {
       "description": "Minimum",
       "layout": "IPY_MODEL_e4cb98fc4cf2451e90ab6b58c1635353",
       "step": 1,
       "style": "IPY_MODEL_c4f402bc9a4b419bbe9c56ce0ff743f9"
      }
     },
     "4d178c2b7f9b4eabb5bb3ff2df9fd052": {
      "model_module": "@jupyter-widgets/controls",
      "model_module_version": "2.0.0",
      "model_name": "ButtonStyleModel",
      "state": {
       "font_family": null,
       "font_size": null,
       "font_style": null,
       "font_variant": null,
       "font_weight": null,
       "text_color": null,
       "text_decoration": null
      }
     },
     "51ebb52c40684dcc84dfa1347b9c6c86": {
      "model_module": "@jupyter-widgets/controls",
      "model_module_version": "2.0.0",
      "model_name": "IntTextModel",
      "state": {
       "description": "Workers",
       "layout": "IPY_MODEL_e4cb98fc4cf2451e90ab6b58c1635353",
       "step": 1,
       "style": "IPY_MODEL_53b307f088894e61badaf4d446a6a676"
      }
     },
     "53b307f088894e61badaf4d446a6a676": {
      "model_module": "@jupyter-widgets/controls",
      "model_module_version": "2.0.0",
      "model_name": "DescriptionStyleModel",
      "state": {
       "description_width": ""
      }
     },
     "68c9ad4ae99641a59c72a343a41ef971": {
      "model_module": "@jupyter-widgets/controls",
      "model_module_version": "2.0.0",
      "model_name": "ButtonModel",
      "state": {
       "description": "Adapt",
       "layout": "IPY_MODEL_e4cb98fc4cf2451e90ab6b58c1635353",
       "style": "IPY_MODEL_6ed201f4b1ad4975ab425c8cfdb3ffdb",
       "tooltip": null
      }
     },
     "6ed201f4b1ad4975ab425c8cfdb3ffdb": {
      "model_module": "@jupyter-widgets/controls",
      "model_module_version": "2.0.0",
      "model_name": "ButtonStyleModel",
      "state": {
       "font_family": null,
       "font_size": null,
       "font_style": null,
       "font_variant": null,
       "font_weight": null,
       "text_color": null,
       "text_decoration": null
      }
     },
     "83fca3faff0d4c83817209b0f72e408a": {
      "model_module": "@jupyter-widgets/base",
      "model_module_version": "2.0.0",
      "model_name": "LayoutModel",
      "state": {
       "min_width": "500px"
      }
     },
     "851a48a01a0e42c4beca46d0f06d5246": {
      "model_module": "@jupyter-widgets/controls",
      "model_module_version": "2.0.0",
      "model_name": "HTMLStyleModel",
      "state": {
       "description_width": "",
       "font_size": null,
       "text_color": null
      }
     },
     "932a634f4d394acaa091a5f6eac0460b": {
      "model_module": "@jupyter-widgets/controls",
      "model_module_version": "2.0.0",
      "model_name": "ButtonModel",
      "state": {
       "description": "Scale",
       "layout": "IPY_MODEL_e4cb98fc4cf2451e90ab6b58c1635353",
       "style": "IPY_MODEL_4d178c2b7f9b4eabb5bb3ff2df9fd052",
       "tooltip": null
      }
     },
     "984573e85bc94adaa22e5d91f844b120": {
      "model_module": "@jupyter-widgets/base",
      "model_module_version": "2.0.0",
      "model_name": "LayoutModel",
      "state": {}
     },
     "b0895d384bd74547aee51e7b26b7af84": {
      "model_module": "@jupyter-widgets/controls",
      "model_module_version": "2.0.0",
      "model_name": "TabModel",
      "state": {
       "children": [
        "IPY_MODEL_00310e6ba7444898b0fa89cf5b68229f",
        "IPY_MODEL_b1aeef7cc3f7425584653dfe2f6837cc"
       ],
       "layout": "IPY_MODEL_c65db5096bd041fa8c176188ee48a5cc",
       "selected_index": 0,
       "titles": [
        "Status",
        "Scaling"
       ]
      }
     },
     "b0d19cc6c23240b3abb53216a8a46371": {
      "model_module": "@jupyter-widgets/controls",
      "model_module_version": "2.0.0",
      "model_name": "IntTextModel",
      "state": {
       "description": "Maximum",
       "layout": "IPY_MODEL_e4cb98fc4cf2451e90ab6b58c1635353",
       "step": 1,
       "style": "IPY_MODEL_f0a3b4bec0164da1812c3ae855307660"
      }
     },
     "b1aeef7cc3f7425584653dfe2f6837cc": {
      "model_module": "@jupyter-widgets/controls",
      "model_module_version": "2.0.0",
      "model_name": "VBoxModel",
      "state": {
       "children": [
        "IPY_MODEL_d12a096116be462db80653653d77ef43",
        "IPY_MODEL_00f9b49f39cb43acadede9ee6ce769ba"
       ],
       "layout": "IPY_MODEL_202fedc9652c4d28b923a77a2fca725e"
      }
     },
     "c029ccc595bd4e7ea5f68b6ed6cab728": {
      "model_module": "@jupyter-widgets/base",
      "model_module_version": "2.0.0",
      "model_name": "LayoutModel",
      "state": {}
     },
     "c4f402bc9a4b419bbe9c56ce0ff743f9": {
      "model_module": "@jupyter-widgets/controls",
      "model_module_version": "2.0.0",
      "model_name": "DescriptionStyleModel",
      "state": {
       "description_width": ""
      }
     },
     "c65db5096bd041fa8c176188ee48a5cc": {
      "model_module": "@jupyter-widgets/base",
      "model_module_version": "2.0.0",
      "model_name": "LayoutModel",
      "state": {}
     },
     "d12a096116be462db80653653d77ef43": {
      "model_module": "@jupyter-widgets/controls",
      "model_module_version": "2.0.0",
      "model_name": "HTMLModel",
      "state": {
       "layout": "IPY_MODEL_34f05bbf747847b993751e6cb6dc4df2",
       "style": "IPY_MODEL_851a48a01a0e42c4beca46d0f06d5246",
       "value": "\n        <table>\n            <tr><td style=\"text-align: left;\">Scaling mode: Manual</td></tr>\n            <tr><td style=\"text-align: left;\">Workers: 4</td></tr>\n        </table>\n        "
      }
     },
     "e222c82a8a684c2abf30d1d7cd3b2d6b": {
      "model_module": "@jupyter-widgets/controls",
      "model_module_version": "2.0.0",
      "model_name": "HBoxModel",
      "state": {
       "children": [
        "IPY_MODEL_51ebb52c40684dcc84dfa1347b9c6c86",
        "IPY_MODEL_932a634f4d394acaa091a5f6eac0460b"
       ],
       "layout": "IPY_MODEL_e670a510c3aa4710b95ab57577ee16f0"
      }
     },
     "e4cb98fc4cf2451e90ab6b58c1635353": {
      "model_module": "@jupyter-widgets/base",
      "model_module_version": "2.0.0",
      "model_name": "LayoutModel",
      "state": {
       "width": "150px"
      }
     },
     "e670a510c3aa4710b95ab57577ee16f0": {
      "model_module": "@jupyter-widgets/base",
      "model_module_version": "2.0.0",
      "model_name": "LayoutModel",
      "state": {}
     },
     "ec0f06cce47a45769e77e897ad539a9a": {
      "model_module": "@jupyter-widgets/controls",
      "model_module_version": "2.0.0",
      "model_name": "HBoxModel",
      "state": {
       "children": [
        "IPY_MODEL_35b4263b6b654e5183baf9e7c6077713",
        "IPY_MODEL_b0d19cc6c23240b3abb53216a8a46371",
        "IPY_MODEL_68c9ad4ae99641a59c72a343a41ef971"
       ],
       "layout": "IPY_MODEL_c029ccc595bd4e7ea5f68b6ed6cab728"
      }
     },
     "f0a3b4bec0164da1812c3ae855307660": {
      "model_module": "@jupyter-widgets/controls",
      "model_module_version": "2.0.0",
      "model_name": "DescriptionStyleModel",
      "state": {
       "description_width": ""
      }
     }
    },
    "version_major": 2,
    "version_minor": 0
   }
  }
 },
 "nbformat": 4,
 "nbformat_minor": 5
}
